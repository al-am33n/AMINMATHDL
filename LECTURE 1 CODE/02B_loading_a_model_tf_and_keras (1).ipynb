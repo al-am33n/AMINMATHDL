{
  "cells": [
    {
      "cell_type": "markdown",
      "metadata": {
        "id": "2wEQf08mIvxN"
      },
      "source": [
        "# Loading a Saved Model\n",
        "1. Serving a model can be via a REST API, or on a device (such as Android or iOS) or on the browser (as a Javascript). Tensorflow provides support for all of these options. See Chollet section 6.3.2, page 166 for more.\n",
        "2. During long trainings it makes sense to save your model. A version of a model (with the weights and optimizer status at that time) is called 'checkpoint'. To see how to use that in Keras, see Chollet section 7.3.2, page 187.\n",
        "\n",
        "For serving a Model with Tensorflow see also:\n",
        "1. https://github.com/tensorflow/docs/blob/master/site/en/guide/saved_model.ipynb\n",
        "2. https://www.tensorflow.org/tfx/tutorials/serving/rest_simple"
      ]
    },
    {
      "cell_type": "code",
      "execution_count": null,
      "metadata": {
        "id": "Bu9xUlUgIvxP"
      },
      "outputs": [],
      "source": [
        "import tensorflow as tf"
      ]
    },
    {
      "cell_type": "code",
      "execution_count": null,
      "metadata": {
        "id": "jPhurRTPIvxQ"
      },
      "outputs": [],
      "source": [
        "# get the test MNIST data\n",
        "mnist = tf.keras.datasets.mnist\n",
        "_, (test_images, test_labels) = mnist.load_data()\n",
        "# preprocess\n",
        "test_images = test_images.reshape((10000, 28 * 28))\n",
        "test_images = test_images.astype(\"float32\") / 255"
      ]
    },
    {
      "cell_type": "code",
      "execution_count": null,
      "metadata": {
        "id": "UONE9T7yIvxQ"
      },
      "outputs": [],
      "source": [
        "# load the model with Keras:\n",
        "test_model = tf.keras.models.load_model(\"./mnist_model/keras_pb/\")"
      ]
    },
    {
      "cell_type": "code",
      "execution_count": null,
      "metadata": {
        "id": "l9cse2LWIvxQ",
        "outputId": "d18ec7bb-9617-41d1-8bf9-6edd7ba44f03"
      },
      "outputs": [
        {
          "name": "stdout",
          "output_type": "stream",
          "text": [
            "1/1 [==============================] - 0s 89ms/step\n"
          ]
        }
      ],
      "source": [
        "# perdict a single image\n",
        "prediction = test_model.predict(test_images[0:1])"
      ]
    },
    {
      "cell_type": "code",
      "execution_count": null,
      "metadata": {
        "id": "1CpZCfCZIvxR",
        "outputId": "66b4fbfb-7e39-4462-d37b-25cd4b6a3291"
      },
      "outputs": [
        {
          "data": {
            "text/plain": [
              "7"
            ]
          },
          "execution_count": 5,
          "metadata": {},
          "output_type": "execute_result"
        }
      ],
      "source": [
        "prediction.argmax()  # this is the same as the model at the time it was saved, as expected"
      ]
    },
    {
      "cell_type": "code",
      "execution_count": null,
      "metadata": {
        "id": "lQvAllKDIvxR",
        "outputId": "762bce0b-6a6b-4923-8d66-fe6bb8525b2d"
      },
      "outputs": [
        {
          "name": "stdout",
          "output_type": "stream",
          "text": [
            "313/313 [==============================] - 1s 2ms/step - loss: 0.0696 - accuracy: 0.9780\n",
            "test_acc: 0.9779999852180481\n"
          ]
        }
      ],
      "source": [
        "test_loss, test_acc = test_model.evaluate(test_images, test_labels)\n",
        "print(f\"test_acc: {test_acc}\")  # this is the same as the model at the time it was saved, as expected"
      ]
    },
    {
      "cell_type": "code",
      "execution_count": null,
      "metadata": {
        "id": "xIgXfknAIvxR",
        "outputId": "4c72315d-e029-49bd-a7a7-776e31a554e8"
      },
      "outputs": [
        {
          "name": "stdout",
          "output_type": "stream",
          "text": [
            "1/1 [==============================] - 0s 27ms/step\n",
            "Time to predict a single image: 64 ms\n"
          ]
        }
      ],
      "source": [
        "# it is useful to benchmark the time it takes to predict a single image\n",
        "# a complete benchmark would need to run the prediction multiple times\n",
        "# and list the configuration (such as the CPU or GPU stypes and the versions of Python and TensorFlow)\n",
        "import time\n",
        "\n",
        "start = time.time()\n",
        "prediction = test_model.predict(test_images[0:1])\n",
        "end = time.time()\n",
        "print(f\"Time to predict a single image: {round((end - start) * 1000)} ms\")"
      ]
    },
    {
      "cell_type": "markdown",
      "metadata": {
        "id": "PYOdYm35IvxR"
      },
      "source": [
        "### Load and Infer with Tensorflow"
      ]
    },
    {
      "cell_type": "code",
      "execution_count": null,
      "metadata": {
        "id": "_reEXFAsIvxR",
        "outputId": "e9cef67d-9e08-4be5-f827-abbe4d95eb63"
      },
      "outputs": [
        {
          "name": "stdout",
          "output_type": "stream",
          "text": [
            "['serving_default']\n"
          ]
        }
      ],
      "source": [
        "loaded = tf.saved_model.load('./mnist_model/tf/')\n",
        "print(list(loaded.signatures.keys()))"
      ]
    },
    {
      "cell_type": "code",
      "execution_count": null,
      "metadata": {
        "id": "MvWwfbQZIvxS"
      },
      "outputs": [],
      "source": [
        "infer = loaded.signatures[\"serving_default\"]"
      ]
    },
    {
      "cell_type": "code",
      "execution_count": null,
      "metadata": {
        "id": "Ddmw4IQuIvxS",
        "outputId": "915a5c6d-1e78-46d4-c9a7-7449f91d380b"
      },
      "outputs": [
        {
          "name": "stdout",
          "output_type": "stream",
          "text": [
            "{'dense_1': TensorSpec(shape=(None, 10), dtype=tf.float32, name='dense_1')}\n"
          ]
        }
      ],
      "source": [
        "print(infer.structured_outputs)  # this provides the name of the output layer"
      ]
    },
    {
      "cell_type": "code",
      "execution_count": null,
      "metadata": {
        "id": "fpteDzIhIvxS"
      },
      "outputs": [],
      "source": [
        "prediction = infer(tf.constant(test_images[0:1]))['dense_1']"
      ]
    },
    {
      "cell_type": "code",
      "execution_count": null,
      "metadata": {
        "id": "UDw0SVmMIvxS",
        "outputId": "91381e9b-8c20-4242-b52e-d9a72ef11d03"
      },
      "outputs": [
        {
          "data": {
            "text/plain": [
              "<tf.Tensor: shape=(1, 10), dtype=float32, numpy=\n",
              "array([[1.14180985e-07, 3.05701131e-09, 1.09686735e-05, 2.26440345e-04,\n",
              "        1.26536073e-10, 1.56970650e-08, 8.94004434e-13, 9.99644518e-01,\n",
              "        5.48928142e-07, 1.17374686e-04]], dtype=float32)>"
            ]
          },
          "execution_count": 12,
          "metadata": {},
          "output_type": "execute_result"
        }
      ],
      "source": [
        "prediction"
      ]
    },
    {
      "cell_type": "code",
      "execution_count": null,
      "metadata": {
        "id": "Ea4ewUEuIvxS",
        "outputId": "17530a63-9e4b-46f0-8027-2d12c01afe46"
      },
      "outputs": [
        {
          "data": {
            "text/plain": [
              "7"
            ]
          },
          "execution_count": 13,
          "metadata": {},
          "output_type": "execute_result"
        }
      ],
      "source": [
        "prediction.numpy().argmax()  # same as the model at the time it was saved, as expected"
      ]
    },
    {
      "cell_type": "code",
      "execution_count": null,
      "metadata": {
        "id": "hk0XiWyqIvxS",
        "outputId": "6755312e-5983-4c17-b0a8-15547408edd2"
      },
      "outputs": [
        {
          "name": "stdout",
          "output_type": "stream",
          "text": [
            "Time to predict a single image: 6.0 ms\n"
          ]
        }
      ],
      "source": [
        "start = time.time()\n",
        "prediction = infer(tf.constant(test_images[0:1]))['dense_1']\n",
        "end = time.time()\n",
        "print(f\"Time to predict a single image: {round((end - start) * 1000, 1)} ms\")"
      ]
    },
    {
      "cell_type": "code",
      "execution_count": null,
      "metadata": {
        "id": "e-f2rV9PIvxS",
        "outputId": "2378f62e-9652-4482-b953-b0b1e4d649fe"
      },
      "outputs": [
        {
          "data": {
            "text/plain": [
              "7"
            ]
          },
          "execution_count": 15,
          "metadata": {},
          "output_type": "execute_result"
        }
      ],
      "source": [
        "# note that a models saved with Keras can be loaded with TensorFlow\n",
        "loaded = tf.saved_model.load('./mnist_model/keras_pb/')\n",
        "infer = loaded.signatures[\"serving_default\"]\n",
        "prediction = infer(tf.constant(test_images[0:1]))['dense_1']\n",
        "prediction.numpy().argmax()  # same as the model at the time it was saved, as expected"
      ]
    },
    {
      "cell_type": "code",
      "execution_count": null,
      "metadata": {
        "id": "oAqZqsAzIvxT",
        "outputId": "0f579372-a920-4519-a2c1-98ee18fa6c77"
      },
      "outputs": [
        {
          "name": "stdout",
          "output_type": "stream",
          "text": [
            "WARNING:tensorflow:SavedModel saved prior to TF 2.5 detected when loading Keras model. Please ensure that you are saving the model with model.save() or tf.keras.models.save_model(), *NOT* tf.saved_model.save(). To confirm, there should be a file named \"keras_metadata.pb\" in the SavedModel directory.\n",
            "Unable to create a Keras model from SavedModel at ./mnist_model/tf/. This SavedModel was exported with `tf.saved_model.save`, and lacks the Keras metadata file. Please save your Keras model by calling `model.save` or `tf.keras.models.save_model`. Note that you can still load this SavedModel with `tf.saved_model.load`.\n"
          ]
        }
      ],
      "source": [
        "# However, loading a model saved with TensorFlow with Keras will not work:\n",
        "try:\n",
        "    tf.keras.models.load_model(\"./mnist_model/tf/\")\n",
        "except Exception as e:\n",
        "    print(e)"
      ]
    },
    {
      "cell_type": "code",
      "execution_count": null,
      "metadata": {
        "id": "64fib2RdIvxT"
      },
      "outputs": [],
      "source": [
        "# the difference between the two folders is an additional `keras_metadata.pb` file in the Keras folder"
      ]
    },
    {
      "cell_type": "code",
      "execution_count": null,
      "metadata": {
        "id": "1xcLKOEhIvxT",
        "outputId": "b088dc00-a179-4a32-8d82-b86e1a50aae7"
      },
      "outputs": [
        {
          "name": "stdout",
          "output_type": "stream",
          "text": [
            "SavedModel file does not exist at: ./mnist_model/keras_h5/model.h5\\{saved_model.pbtxt|saved_model.pb}\n"
          ]
        }
      ],
      "source": [
        "# h5 Keras model can't be loaded with TensorFlow\n",
        "try:\n",
        "    loaded = tf.saved_model.load('./mnist_model/keras_h5/model.h5')\n",
        "except Exception as e:\n",
        "    print(e)\n"
      ]
    },
    {
      "cell_type": "code",
      "execution_count": null,
      "metadata": {
        "id": "0cQtKnl-IvxT",
        "outputId": "e388c752-786a-4950-e5e6-4e27db27b8a3"
      },
      "outputs": [
        {
          "data": {
            "text/plain": [
              "7"
            ]
          },
          "execution_count": 19,
          "metadata": {},
          "output_type": "execute_result"
        }
      ],
      "source": [
        "# if only inference (but not training) is needed, the model saved without the optimizer can be loaded\n",
        "loaded = tf.saved_model.load('./mnist_model/keras_pb_no_optimizer/')\n",
        "infer = loaded.signatures[\"serving_default\"]\n",
        "prediction = infer(tf.constant(test_images[0:1]))['dense_1']\n",
        "prediction.numpy().argmax()  # same as the model at the time it was saved, as expected"
      ]
    },
    {
      "cell_type": "code",
      "execution_count": null,
      "metadata": {
        "id": "H9teoYgVIvxT",
        "outputId": "7591d976-49bc-4155-a0b4-250a78573b39"
      },
      "outputs": [
        {
          "data": {
            "text/plain": [
              "((),\n",
              " {'dense_input': TensorSpec(shape=(None, 784), dtype=tf.float32, name='dense_input')})"
            ]
          },
          "execution_count": 20,
          "metadata": {},
          "output_type": "execute_result"
        }
      ],
      "source": [
        "infer.structured_input_signature"
      ]
    },
    {
      "cell_type": "code",
      "execution_count": null,
      "metadata": {
        "id": "DZ28SLkVIvxT"
      },
      "outputs": [],
      "source": []
    }
  ],
  "metadata": {
    "kernelspec": {
      "display_name": "tensorflow_cpu",
      "language": "python",
      "name": "python3"
    },
    "language_info": {
      "codemirror_mode": {
        "name": "ipython",
        "version": 3
      },
      "file_extension": ".py",
      "mimetype": "text/x-python",
      "name": "python",
      "nbconvert_exporter": "python",
      "pygments_lexer": "ipython3",
      "version": "3.11.3"
    },
    "orig_nbformat": 4,
    "colab": {
      "provenance": []
    }
  },
  "nbformat": 4,
  "nbformat_minor": 0
}