{
  "cells": [
    {
      "cell_type": "markdown",
      "metadata": {
        "id": "3ty69zGy-Pxm"
      },
      "source": [
        "# Introduction to Tensors (PyTorch)\n",
        "This notebook introduces PyTorch's Tensors.\n",
        "\n",
        "For further reading about PyTorch's tensors here are some useful resources:\n",
        "1. https://pytorch.org/docs/stable/tensors.html (retrieved 2022-12-24, [Github](https://github.com/pytorch/tutorials/blob/d5161086e7277f10c68dd44914f8925fda62f399/beginner_source/blitz/tensor_tutorial.py))\n",
        "2. https://pytorch.org/tutorials/beginner/introyt/tensors_deeper_tutorial.html (retrieved 2022-12-24, [Github](https://github.com/pytorch/tutorials/blob/c2115df8003e6a3aeeb327441ff4d8389576d6f0/beginner_source/introyt/tensors_deeper_tutorial.py))\n",
        "3. https://pytorch.org/tutorials/beginner/blitz/tensor_tutorial.html (retrieved from [Github](https://github.com/pytorch/tutorials/blob/d5161086e7277f10c68dd44914f8925fda62f399/beginner_source/blitz/tensor_tutorial.py))\n",
        "4. Chollet, p.26-47 (for definitions and a Tensorflow implementation)\n",
        "\n",
        "The images were taken from: https://www.tensorflow.org/guide/tensor (retrieved from [Github](https://github.com/tensorflow/docs/blob/9bfffb91247233025892f2d293aa4d206c0ccad9/site/en/guide/tensor.ipynb)). Presented here according to the Apache 2.0 License.\n",
        "Matrix Multiplication example were taken from Geron's Linear Algebra appendix ([Github](https://github.com/ageron/handson-ml3/blob/f122f5ac70636214aeea04c8ee3541d8ef59f715/math_linear_algebra.ipynb)). Presented here according to the Apache 2.0 License. Images can be seen in these links."
      ]
    },
    {
      "cell_type": "markdown",
      "source": [
        "A tensor is a mathematical object that generalizes scalars, vectors, and matrices to higher dimensions. In simple terms, you can think of tensors as multi-dimensional arrays or collections of numbers arranged in a specific order."
      ],
      "metadata": {
        "id": "s7Z7ZUT-FE6A"
      }
    },
    {
      "cell_type": "markdown",
      "metadata": {
        "id": "oVLlxktA-Pxo"
      },
      "source": [
        "### The Importance of Tensors for Deep Learning\n",
        "\n",
        "In deep learning, tensors are the basic unit of data. Tensors represents both:\n",
        "* _Data_ such as the input, output and intermediate representations of a model\n",
        "* The _Parameters_ of the model, such as weights and biases"
      ]
    },
    {
      "cell_type": "markdown",
      "metadata": {
        "id": "cQvlkcQC-Pxp"
      },
      "source": [
        "### Tensor - a Definition"
      ]
    },
    {
      "cell_type": "markdown",
      "metadata": {
        "id": "eBPw8e8vrsom"
      },
      "source": [
        "**Tensors are multi-dimensional arrays with a uniform type (called a `dtype`).**\n",
        "\n",
        "The most obvious differences between NumPy arrays and PyTorch and Tensorflow tensors are:\n",
        "\n",
        "1. Tensors can be backed by accelerator memory (like GPU, TPU).\n",
        "2. Tensors can have non-numerical data types\n",
        "3. Tensors can be ragged (non-rectangular)\n",
        "4. Tensors have a different set of operations (extended, generally speaking)\n",
        "5. Tensorflow's Tensors are immutable. In Tensorflow, all tensors are immutable like Python numbers and strings: you can never update the contents of a tensor, only create a new one. On the other hand, PyTorch tensors are mutable, just like in NumPy.\n",
        "\n",
        "\n",
        "The mathematical definition of a tensor ([Wikipedia](https://en.wikipedia.org/wiki/Tensor)) and the tensor implementation in PyTorch and Tensorflow are similar, but not exactly equivalent. The tensor of the DL frameworks is an _object_ (e.g. in Python), that is based on the mathematical concept, but it extends it, and can break it on occasion. Some of the notable differences are that tensors in DL frameworks can be ragged (non-rectangular), and include operations such as broadcasting which are not natively defined as part of the mathematical concept. They can also include 'programmatic' attributes and methods (such as device placement, that are obviously not part of the mathematical definition)."
      ]
    },
    {
      "cell_type": "markdown",
      "metadata": {
        "id": "NXsNUD6h-Pxp"
      },
      "source": [
        "### The Shape and Rank of a Tensor\n",
        "\n",
        "* Rank (dimensionality) - the number of axes in a tensor.\n",
        "* Shape - a tuple containing the number of elements in each axis (for rectangular tensors).\n",
        "\n",
        "_Note: The term dimensionality can denote either the number of entries along a specific axis or the number of axes in a tensor, which can be confusing at times._\n",
        "\n",
        "Examples:"
      ]
    },
    {
      "cell_type": "markdown",
      "metadata": {
        "id": "Y8OShxoM-Pxp"
      },
      "source": [
        "<table>\n",
        "<tr>\n",
        "  <th>Rank 0 (a scalar)</th>\n",
        "  <th>Rank 1 (a vector)</th>\n",
        "  <th>Rank 2 (a matrix)</th>\n",
        "</tr>\n",
        "<tr>\n",
        "  <td>\n",
        "   <img src=\"../images/tensor/scalar.png\" alt=\"Rank 0 (a scalar)\" />\n",
        "  </td>\n",
        "\n",
        "  <td>\n",
        "   <img src=\"../images/tensor/vector.png\" alt=\"Rank 1 (a vector)\"/>\n",
        "  </td>\n",
        "  <td>\n",
        "   <img src=\"../images/tensor/matrix.png\" alt=\"Rank 2 (a matrix)\">\n",
        "  </td>\n",
        "</tr>\n",
        "</table>\n"
      ]
    },
    {
      "cell_type": "markdown",
      "metadata": {
        "id": "lxZ2dvA7-Pxq"
      },
      "source": [
        "<table>\n",
        "<tr>\n",
        "  <th colspan=3>A rank-3 tensor (represented in three different ways) </th>\n",
        "<tr>\n",
        "<tr>\n",
        "  <td>\n",
        "   <img src=\"../images/tensor/3-axis_numpy.png\"/>\n",
        "  </td>\n",
        "  <td>\n",
        "   <img src=\"../images/tensor/3-axis_front.png\"/>\n",
        "  </td>\n",
        "\n",
        "  <td>\n",
        "   <img src=\"../images/tensor/3-axis_block.png\"/>\n",
        "  </td>\n",
        "</tr>\n",
        "\n",
        "</table>"
      ]
    },
    {
      "cell_type": "markdown",
      "metadata": {
        "id": "wTlaQ5Bj-Pxq"
      },
      "source": [
        "<table>\n",
        "<tr>\n",
        "  <th colspan=2>A rank-4 tensor, shape: <code>[3, 2, 4, 5]</code></th>\n",
        "</tr>\n",
        "<tr>\n",
        "  <td>\n",
        "<img src=\"../images/tensor/shape.png\" alt=\"A tensor shape is like a vector.\">\n",
        "    <td>\n",
        "<img src=\"../images/tensor/4-axis_block.png\" alt=\"A 4-axis tensor\">\n",
        "  </td>\n",
        "  </tr>\n",
        "</table>\n"
      ]
    },
    {
      "cell_type": "markdown",
      "metadata": {
        "id": "KKXUKqgK-Pxr"
      },
      "source": [
        "While axes are often referred to by their indices, you should always keep track of the meaning of each. Often axes are ordered from global to local: The batch axis first, followed by spatial dimensions, and features for each location last. This way feature vectors are contiguous regions of memory.\n",
        "\n",
        "<table>\n",
        "<tr>\n",
        "<th>Typical axis order</th>\n",
        "</tr>\n",
        "<tr>\n",
        "    <td>\n",
        "<img src=\"../images/tensor/shape2.png\" alt=\"Keep track of what each axis is. A 4-axis tensor might be: Batch, Width, Height, Features\">\n",
        "  </td>\n",
        "</tr>\n",
        "</table>"
      ]
    },
    {
      "cell_type": "code",
      "execution_count": null,
      "metadata": {
        "id": "U8kbTfrN-Pxr"
      },
      "outputs": [],
      "source": [
        "import sys\n",
        "import torch\n",
        "import helpers as h"
      ]
    },
    {
      "cell_type": "code",
      "execution_count": null,
      "metadata": {
        "colab": {
          "base_uri": "https://localhost:8080/",
          "height": 211
        },
        "id": "u_3mtpWh-Pxs",
        "outputId": "4d4615fd-0746-4503-bace-e81e20669939"
      },
      "outputs": [
        {
          "output_type": "error",
          "ename": "AttributeError",
          "evalue": "module 'helpers' has no attribute 'print_python_version'",
          "traceback": [
            "\u001b[0;31m---------------------------------------------------------------------------\u001b[0m",
            "\u001b[0;31mAttributeError\u001b[0m                            Traceback (most recent call last)",
            "\u001b[0;32m<ipython-input-14-41cfce2b67a6>\u001b[0m in \u001b[0;36m<cell line: 2>\u001b[0;34m()\u001b[0m\n\u001b[1;32m      1\u001b[0m \u001b[0;31m# check the version of Python and PyTorch\u001b[0m\u001b[0;34m\u001b[0m\u001b[0;34m\u001b[0m\u001b[0m\n\u001b[0;32m----> 2\u001b[0;31m \u001b[0mh\u001b[0m\u001b[0;34m.\u001b[0m\u001b[0mprint_python_version\u001b[0m\u001b[0;34m(\u001b[0m\u001b[0;34m)\u001b[0m\u001b[0;34m\u001b[0m\u001b[0;34m\u001b[0m\u001b[0m\n\u001b[0m\u001b[1;32m      3\u001b[0m \u001b[0mh\u001b[0m\u001b[0;34m.\u001b[0m\u001b[0mprint_pytorch_version\u001b[0m\u001b[0;34m(\u001b[0m\u001b[0;34m)\u001b[0m\u001b[0;34m\u001b[0m\u001b[0;34m\u001b[0m\u001b[0m\n",
            "\u001b[0;31mAttributeError\u001b[0m: module 'helpers' has no attribute 'print_python_version'"
          ]
        }
      ],
      "source": [
        "# check the version of Python and PyTorch\n",
        "h.print_python_version()\n",
        "h.print_pytorch_version()"
      ]
    },
    {
      "cell_type": "code",
      "source": [
        "!wget https://raw.githubusercontent.com/udacity/deep-learning-v2-pytorch/3bd7dea850e936d8cb44adda8200e4e2b5d627e3/intro-to-pytorch/helper.py"
      ],
      "metadata": {
        "colab": {
          "base_uri": "https://localhost:8080/"
        },
        "id": "6NjWQitwQyMf",
        "outputId": "77e77e09-e0fa-48b1-e312-dab39608a302"
      },
      "execution_count": null,
      "outputs": [
        {
          "output_type": "stream",
          "name": "stdout",
          "text": [
            "--2024-01-09 17:26:46--  https://raw.githubusercontent.com/udacity/deep-learning-v2-pytorch/3bd7dea850e936d8cb44adda8200e4e2b5d627e3/intro-to-pytorch/helper.py\n",
            "Resolving raw.githubusercontent.com (raw.githubusercontent.com)... 185.199.108.133, 185.199.109.133, 185.199.110.133, ...\n",
            "Connecting to raw.githubusercontent.com (raw.githubusercontent.com)|185.199.108.133|:443... connected.\n",
            "HTTP request sent, awaiting response... 200 OK\n",
            "Length: 2813 (2.7K) [text/plain]\n",
            "Saving to: ‘helper.py’\n",
            "\n",
            "\rhelper.py             0%[                    ]       0  --.-KB/s               \rhelper.py           100%[===================>]   2.75K  --.-KB/s    in 0s      \n",
            "\n",
            "2024-01-09 17:26:47 (20.4 MB/s) - ‘helper.py’ saved [2813/2813]\n",
            "\n"
          ]
        }
      ]
    },
    {
      "cell_type": "markdown",
      "metadata": {
        "id": "MyEj8TKW-Pxt"
      },
      "source": [
        "### Initializing Tensors\n",
        "Let's see how to initialize tensors using PyTorch"
      ]
    },
    {
      "cell_type": "markdown",
      "metadata": {
        "id": "RjAji2bA-Pxt"
      },
      "source": [
        "#### Initiailize a rank-1 tensor (vector)\n",
        "We start with an initialization of a tensor based on a Python list."
      ]
    },
    {
      "cell_type": "code",
      "execution_count": null,
      "metadata": {
        "id": "enAYw5wk-Pxt",
        "outputId": "fcf63c2a-2f1f-494f-fe5a-619974ed2e06"
      },
      "outputs": [
        {
          "name": "stdout",
          "output_type": "stream",
          "text": [
            "tensor([1., 2.])\n",
            "Type         <class 'torch.Tensor'>\n",
            "dtype        torch.float32\n",
            "Dimension    1\n",
            "Shape        (2,)\n"
          ]
        }
      ],
      "source": [
        "x = torch.tensor([1., 2.])\n",
        "h.print_tensor_info(x)"
      ]
    },
    {
      "cell_type": "markdown",
      "metadata": {
        "id": "R9hMt6Ne-Pxt"
      },
      "source": [
        "A PyTorch tensor is a class. Here it is of the type `torch.Tensor`. As in any Python class, it has attributes and methods associated with it.\n",
        "* Tip: Look into the function definition of `h.printing_tensor_info` to see the Tensor's methods and attributes used to display the values above."
      ]
    },
    {
      "cell_type": "markdown",
      "metadata": {
        "id": "fqmiMxoL-Pxt"
      },
      "source": [
        "In PyTorch, each tensor has a `device` associated with it. By default (for constructors such as `torch.tensor`) this device is the CPU. It can also be a GPU. To check for the device a tensor is associated with:"
      ]
    },
    {
      "cell_type": "code",
      "execution_count": null,
      "metadata": {
        "id": "bXRoMPjD-Pxt",
        "outputId": "80c34f6d-77c9-489d-9c8b-8425f2810b0b"
      },
      "outputs": [
        {
          "data": {
            "text/plain": [
              "'cpu'"
            ]
          },
          "execution_count": 4,
          "metadata": {},
          "output_type": "execute_result"
        }
      ],
      "source": [
        "x.dev\n",
        "ice.type"
      ]
    },
    {
      "cell_type": "markdown",
      "metadata": {
        "id": "_3J3EdjR-Pxt"
      },
      "source": [
        "Below we define a vector with a single element. Notice the tensor-dimensionality and shape of this tensor:"
      ]
    },
    {
      "cell_type": "code",
      "execution_count": null,
      "metadata": {
        "id": "1Y9AJ8tY-Pxt",
        "outputId": "e348e706-c6a1-4d7e-b4db-fcc576a2ac05"
      },
      "outputs": [
        {
          "name": "stdout",
          "output_type": "stream",
          "text": [
            "tensor([1.])\n",
            "Type         <class 'torch.Tensor'>\n",
            "dtype        torch.float32\n",
            "Dimension    1\n",
            "Shape        (1,)\n"
          ]
        }
      ],
      "source": [
        "x = torch.tensor([1.,])\n",
        "h.print_tensor_info(x)"
      ]
    },
    {
      "cell_type": "markdown",
      "metadata": {
        "id": "E9dzVb1d-Pxu"
      },
      "source": [
        "Even though it has a single element, this is still a vector ]"
      ]
    },
    {
      "cell_type": "markdown",
      "metadata": {
        "id": "QD7hi9yr-Pxu"
      },
      "source": [
        "#### Initialize a rank-0 tensor (scalar)"
      ]
    },
    {
      "cell_type": "code",
      "execution_count": null,
      "metadata": {
        "id": "ihjSUKUp-Pxu",
        "outputId": "6782ece0-9d45-42eb-ed70-761e0ac14f93"
      },
      "outputs": [
        {
          "name": "stdout",
          "output_type": "stream",
          "text": [
            "2.5\n",
            "Type         <class 'torch.Tensor'>\n",
            "dtype        torch.float32\n",
            "Dimension    0\n",
            "Shape        ()\n"
          ]
        }
      ],
      "source": [
        "x = torch.tensor(2.5)\n",
        "h.print_tensor_info(x)"
      ]
    },
    {
      "cell_type": "markdown",
      "metadata": {
        "id": "a1e5npTH-Pxv"
      },
      "source": [
        "#### Initialize a rank-2 tensor (matrix)"
      ]
    },
    {
      "cell_type": "code",
      "execution_count": null,
      "metadata": {
        "id": "_WatgwLy-Pxv",
        "outputId": "925817ab-d25f-46c3-bcff-04655fada770"
      },
      "outputs": [
        {
          "name": "stdout",
          "output_type": "stream",
          "text": [
            "tensor([[1., 2.],\n",
            "        [3., 4.]])\n",
            "Type         <class 'torch.Tensor'>\n",
            "dtype        torch.float32\n",
            "Dimension    2\n",
            "Shape        (2, 2)\n"
          ]
        }
      ],
      "source": [
        "x = torch.tensor([[1., 2.],[3., 4.]])\n",
        "h.print_tensor_info(x)"
      ]
    },
    {
      "cell_type": "markdown",
      "metadata": {
        "id": "pUbGFh0m-Pxv"
      },
      "source": [
        "#### Initialize a rank-3 tensor"
      ]
    },
    {
      "cell_type": "code",
      "execution_count": null,
      "metadata": {
        "id": "GSx8MIe3-Pxw",
        "outputId": "27ffaca2-b2f3-4afc-ae42-1ec1d0159c3e"
      },
      "outputs": [
        {
          "name": "stdout",
          "output_type": "stream",
          "text": [
            "tensor([[[1.],\n",
            "         [2.]],\n",
            "\n",
            "        [[3.],\n",
            "         [4.]],\n",
            "\n",
            "        [[5.],\n",
            "         [6.]]])\n",
            "Type         <class 'torch.Tensor'>\n",
            "dtype        torch.float32\n",
            "Dimension    3\n",
            "Shape        (3, 2, 1)\n"
          ]
        }
      ],
      "source": [
        "x = torch.tensor([\n",
        "    [[1.,],[2.,]],\n",
        "    [[3.,],[4.,]],\n",
        "    [[5.,],[6.,]],\n",
        "    ])\n",
        "h.print_tensor_info(x)"
      ]
    },
    {
      "cell_type": "markdown",
      "metadata": {
        "id": "rEs__46I-Pxw"
      },
      "source": [
        "#### Explicitly defining the tensor's data type\n",
        "The default data type for the constructor `torch.tensor` is `torch.float32`. This is the data type of each of the elements in the tensors. A tensor can have only a single data type.\n",
        "To set a different dtype for the elements, we can simply add it as an argument when calling the constructor:  "
      ]
    },
    {
      "cell_type": "code",
      "execution_count": null,
      "metadata": {
        "id": "hZtFx-mm-Pxw",
        "outputId": "550ea04d-4fdd-4596-b8dc-4b39a75f01e6"
      },
      "outputs": [
        {
          "name": "stdout",
          "output_type": "stream",
          "text": [
            "tensor([1.], dtype=torch.float64)\n",
            "Type         <class 'torch.Tensor'>\n",
            "dtype        torch.float64\n",
            "Dimension    1\n",
            "Shape        (1,)\n"
          ]
        }
      ],
      "source": [
        "x = torch.tensor([1.], dtype=torch.double)\n",
        "h.print_tensor_info(x)"
      ]
    },
    {
      "cell_type": "markdown",
      "metadata": {
        "id": "VsqNGRKo-Pxx"
      },
      "source": [
        "#### Note\n",
        "We have been using the word 'constructor' to describe `torch.tensor`. In addition, you might have seen (or might see) defining a constant tensor by `torch.Tensor` instead of `torch.tensor`. Let's take a deeper look:"
      ]
    },
    {
      "cell_type": "code",
      "execution_count": null,
      "metadata": {
        "id": "wYV-7V7N-Pxx",
        "outputId": "6b932afc-153e-4480-c9d0-233c161adcf4"
      },
      "outputs": [
        {
          "name": "stdout",
          "output_type": "stream",
          "text": [
            "tensor([1.])\n",
            "Type         <class 'torch.Tensor'>\n",
            "dtype        torch.float32\n",
            "Dimension    1\n",
            "Shape        (1,)\n"
          ]
        }
      ],
      "source": [
        "x = torch.Tensor([1.])\n",
        "h.print_tensor_info(x)"
      ]
    },
    {
      "cell_type": "code",
      "execution_count": null,
      "metadata": {
        "id": "QTFtmupf-Pxx",
        "outputId": "ab90b362-7a07-4728-9674-890aea005134"
      },
      "outputs": [
        {
          "name": "stdout",
          "output_type": "stream",
          "text": [
            "tensor([1], dtype=torch.int32)\n",
            "Type         <class 'torch.Tensor'>\n",
            "dtype        torch.int32\n",
            "Dimension    1\n",
            "Shape        (1,)\n"
          ]
        }
      ],
      "source": [
        "x = torch.IntTensor([1])\n",
        "h.print_tensor_info(x)"
      ]
    },
    {
      "cell_type": "markdown",
      "metadata": {
        "id": "VxEJTDPX-Pxx"
      },
      "source": [
        "`torch.tensor` and `torch.Tensor` are not the same. `torch.tensor` is a constructor and `torch.Tensor` is an alias for the default tensor type (`torch.FloatTensor`). As can be seen below, the first is a function, while the second is a class."
      ]
    },
    {
      "cell_type": "code",
      "execution_count": null,
      "metadata": {
        "id": "Agz_5oEr-Pxx",
        "outputId": "890ef5f2-960b-45bb-f8f2-158737d35583"
      },
      "outputs": [
        {
          "name": "stdout",
          "output_type": "stream",
          "text": [
            "<class 'builtin_function_or_method'>\n",
            "<class 'torch._C._TensorMeta'>\n"
          ]
        }
      ],
      "source": [
        "print(type(torch.tensor))\n",
        "print(type(torch.Tensor))"
      ]
    },
    {
      "cell_type": "markdown",
      "metadata": {
        "id": "F5iVqVpH-Pxx"
      },
      "source": [
        "A list of all the tensor classes available in PyTorch can be found here: https://pytorch.org/docs/stable/tensors.html\n"
      ]
    },
    {
      "cell_type": "markdown",
      "metadata": {
        "id": "IBQoIuLG-Pxx"
      },
      "source": [
        "### Tesor Indexing, Slicing and Assignments\n",
        "A subset of elements can be accessed by indexing and slicing a tensor. In addition, in PyTorch (but not in Tensorflow) it is possible to assign a new value to some elements within the tensor.\n",
        "\n",
        "PyTorch and Tensorflow follow standard Python indexing rules, similar to [indexing a list or a string in Python](https://docs.python.org/3/tutorial/introduction.html#strings), and the basic rules for NumPy indexing.\n",
        "\n",
        "* indexes start at `0`\n",
        "* negative indices count backwards from the end\n",
        "* colons, `:`, are used for slices: `start:stop:step`"
      ]
    },
    {
      "cell_type": "markdown",
      "metadata": {
        "id": "Myhfze7B-Pxx"
      },
      "source": [
        "A rank 2 tensor:"
      ]
    },
    {
      "cell_type": "code",
      "execution_count": null,
      "metadata": {
        "id": "Nu1ybA7D-Pxx",
        "outputId": "0575a495-765b-4c44-85c6-0979fafb2825"
      },
      "outputs": [
        {
          "name": "stdout",
          "output_type": "stream",
          "text": [
            "tensor([[1., 2.],\n",
            "        [3., 4.],\n",
            "        [5., 6.]])\n",
            "Type         <class 'torch.Tensor'>\n",
            "dtype        torch.float32\n",
            "Dimension    2\n",
            "Shape        (3, 2)\n"
          ]
        }
      ],
      "source": [
        "x = torch.tensor([\n",
        "    [1., 2.],\n",
        "    [3., 4.],\n",
        "    [5., 6.],\n",
        "    ])\n",
        "h.print_tensor_info(x)"
      ]
    },
    {
      "cell_type": "markdown",
      "metadata": {
        "id": "VTWNzhcj-Pxy"
      },
      "source": [
        "Accessing a value is done simply by indicating its index:"
      ]
    },
    {
      "cell_type": "code",
      "execution_count": null,
      "metadata": {
        "id": "rvSAkHKx-Pxy",
        "outputId": "370903ea-1d1e-4251-89ef-4cf4b6b266c5"
      },
      "outputs": [
        {
          "data": {
            "text/plain": [
              "tensor(3.)"
            ]
          },
          "execution_count": 14,
          "metadata": {},
          "output_type": "execute_result"
        }
      ],
      "source": [
        "# The element in the second row and first column:\n",
        "x[1,0]"
      ]
    },
    {
      "cell_type": "markdown",
      "metadata": {
        "id": "vVrQZLxQ-Pxy"
      },
      "source": [
        "A rank 3 tensor:"
      ]
    },
    {
      "cell_type": "code",
      "execution_count": null,
      "metadata": {
        "id": "mB3KOKsX-Pxy",
        "outputId": "6ad7fb9d-f409-4e96-cc54-18eb53dc7319"
      },
      "outputs": [
        {
          "name": "stdout",
          "output_type": "stream",
          "text": [
            "tensor([[[ 1.,  2.],\n",
            "         [ 3.,  4.]],\n",
            "\n",
            "        [[ 5.,  6.],\n",
            "         [ 7.,  8.]],\n",
            "\n",
            "        [[ 9., 10.],\n",
            "         [11., 12.]]])\n",
            "Type         <class 'torch.Tensor'>\n",
            "dtype        torch.float32\n",
            "Dimension    3\n",
            "Shape        (3, 2, 2)\n"
          ]
        }
      ],
      "source": [
        "x = torch.tensor([\n",
        "    [[1., 2.],[3., 4.]],\n",
        "    [[5., 6.],[7., 8.]],\n",
        "    [[9., 10.],[11., 12.]],\n",
        "    ])\n",
        "h.print_tensor_info(x)"
      ]
    },
    {
      "cell_type": "code",
      "execution_count": null,
      "metadata": {
        "id": "2iUJC38P-Pxz",
        "outputId": "cc2870f9-1a8a-4616-f0bb-b465d32c574e"
      },
      "outputs": [
        {
          "data": {
            "text/plain": [
              "tensor([[1., 2.],\n",
              "        [3., 4.]])"
            ]
          },
          "execution_count": 16,
          "metadata": {},
          "output_type": "execute_result"
        }
      ],
      "source": [
        "# All elements in the first instances of the first axis:\n",
        "x[0]"
      ]
    },
    {
      "cell_type": "code",
      "execution_count": null,
      "metadata": {
        "id": "54JMfaOy-Pxz",
        "outputId": "59e58eb1-ee38-4645-897a-70afb00df829"
      },
      "outputs": [
        {
          "data": {
            "text/plain": [
              "tensor(1.)"
            ]
          },
          "execution_count": 17,
          "metadata": {},
          "output_type": "execute_result"
        }
      ],
      "source": [
        "x[0][0][0]"
      ]
    },
    {
      "cell_type": "markdown",
      "metadata": {
        "id": "KteVH24A-Pxz"
      },
      "source": [
        "Slicing:"
      ]
    },
    {
      "cell_type": "code",
      "execution_count": null,
      "metadata": {
        "id": "nfCJpIPj-Pxz",
        "outputId": "b0126b67-3a97-48fc-92cb-ed9d04c0a254"
      },
      "outputs": [
        {
          "data": {
            "text/plain": [
              "tensor([1., 3.])"
            ]
          },
          "execution_count": 18,
          "metadata": {},
          "output_type": "execute_result"
        }
      ],
      "source": [
        "x[0,:,0]"
      ]
    },
    {
      "cell_type": "code",
      "execution_count": null,
      "metadata": {
        "id": "jQ8bpz0Y-Pxz",
        "outputId": "2737e5c4-c55f-4246-ff82-a286d40a177d"
      },
      "outputs": [
        {
          "data": {
            "text/plain": [
              "tensor([1., 5.])"
            ]
          },
          "execution_count": 19,
          "metadata": {},
          "output_type": "execute_result"
        }
      ],
      "source": [
        "x[0:2,0,0]"
      ]
    },
    {
      "cell_type": "markdown",
      "metadata": {
        "id": "iqn86Wqr-Pxz"
      },
      "source": [
        "Assignment:"
      ]
    },
    {
      "cell_type": "code",
      "execution_count": null,
      "metadata": {
        "id": "2ZLiHGjh-Pxz"
      },
      "outputs": [],
      "source": [
        "x[1,1,1] = 100"
      ]
    },
    {
      "cell_type": "code",
      "execution_count": null,
      "metadata": {
        "id": "s6QFvfTx-Pxz",
        "outputId": "26ba4b43-5373-47a5-c656-cb4fe167853a"
      },
      "outputs": [
        {
          "data": {
            "text/plain": [
              "tensor([[[  1.,   2.],\n",
              "         [  3.,   4.]],\n",
              "\n",
              "        [[  5.,   6.],\n",
              "         [  7., 100.]],\n",
              "\n",
              "        [[  9.,  10.],\n",
              "         [ 11.,  12.]]])"
            ]
          },
          "execution_count": 21,
          "metadata": {},
          "output_type": "execute_result"
        }
      ],
      "source": [
        "x"
      ]
    },
    {
      "cell_type": "markdown",
      "metadata": {
        "id": "CEFxTPjS-Px0"
      },
      "source": [
        "#### Tensor Operations\n",
        "\n",
        "There are over 100 tensor operations, including transposing, indexing, slicing, mathematical operations, linear algebra, and random sampling. The are desribed in are comprehensively described in the [torch pacakge doc](https://pytorch.org/docs/stable/torch.html). Check out the list."
      ]
    },
    {
      "cell_type": "markdown",
      "metadata": {
        "id": "FKUwSyqu-Px0"
      },
      "source": [
        "#### In-place operations\n",
        "Operations that have a \"`_`\" suffix are in-place. For example: `x.copy_(y)`, ``x.t_()``, will change ``x``.\n",
        "\n",
        "In-place operations save memory by avoiding copynig the data, but cause a loss of history when computing derivatives.\n",
        "\n",
        "Let's look at an in-place addition operation, and compare it to a 'standard' addition (where the result of the operation is stored in a new location in memory):"
      ]
    },
    {
      "cell_type": "code",
      "execution_count": null,
      "metadata": {
        "id": "U0jRloug-Px0",
        "outputId": "3d4a71ce-8e70-4005-86f6-b94640c74f24"
      },
      "outputs": [
        {
          "name": "stdout",
          "output_type": "stream",
          "text": [
            "tensor([[1., 1.],\n",
            "        [1., 1.]]) \n",
            "\n",
            "tensor([[6., 6.],\n",
            "        [6., 6.]])\n"
          ]
        }
      ],
      "source": [
        "tensor = torch.ones(2, 2)\n",
        "print(tensor, \"\\n\")\n",
        "tensor.add_(5)  # notice the underscore\n",
        "print(tensor)"
      ]
    },
    {
      "cell_type": "markdown",
      "metadata": {
        "id": "XG5f2KcA-Px0"
      },
      "source": [
        "Compare to:"
      ]
    },
    {
      "cell_type": "code",
      "execution_count": null,
      "metadata": {
        "id": "TJxNvRWK-Px0",
        "outputId": "75853515-e7ac-4db9-c0be-33054a1a5dae"
      },
      "outputs": [
        {
          "name": "stdout",
          "output_type": "stream",
          "text": [
            "tensor([[1., 1.],\n",
            "        [1., 1.]]) \n",
            "\n",
            "tensor([[1., 1.],\n",
            "        [1., 1.]])\n"
          ]
        }
      ],
      "source": [
        "tensor = torch.ones(2, 2)\n",
        "print(tensor, \"\\n\")\n",
        "tensor.add(5)  # no underscore\n",
        "print(tensor)"
      ]
    },
    {
      "cell_type": "markdown",
      "metadata": {
        "id": "gSOHeyAw-Px0"
      },
      "source": [
        "The operations below are all \"not-in-place\", and these are usually the operations we will work with."
      ]
    },
    {
      "cell_type": "markdown",
      "metadata": {
        "id": "NAOuxHtE-Px0"
      },
      "source": [
        "### Tensor Arithmetic"
      ]
    },
    {
      "cell_type": "markdown",
      "metadata": {
        "id": "9YfrKgj--Px0"
      },
      "source": [
        "Arithmetic is the branch of mathematics that deals with the manipulation of numbers and quantities. It includes the study of basic operations such as addition, subtraction, multiplication, and division, as well as more advanced ones."
      ]
    },
    {
      "cell_type": "markdown",
      "metadata": {
        "id": "VATMzyA_-Px0"
      },
      "source": [
        "Let's initialize two rank-1 tensors first:"
      ]
    },
    {
      "cell_type": "code",
      "execution_count": null,
      "metadata": {
        "id": "NNKRljfk-Px0",
        "outputId": "8ef0fea6-2bc1-44d5-d187-d8a5b18829e4"
      },
      "outputs": [
        {
          "name": "stdout",
          "output_type": "stream",
          "text": [
            "x: tensor([1., 2.])\n",
            "y: tensor([3., 4.])\n"
          ]
        }
      ],
      "source": [
        "x = torch.tensor([1., 2.])\n",
        "y = torch.tensor([3., 4.])\n",
        "print(f'x: {x}')\n",
        "print(f'y: {y}')"
      ]
    },
    {
      "cell_type": "markdown",
      "metadata": {
        "id": "_P2ewSGB-Px1"
      },
      "source": [
        "The four basic operations of arithmetics (addition, subtraction, multiplication and division, as defined by operator overloading) are conducted element-wise:"
      ]
    },
    {
      "cell_type": "code",
      "execution_count": null,
      "metadata": {
        "id": "fJ3LZMvO-Px1",
        "outputId": "a664d804-d945-4475-f39f-e08d0a7751dd"
      },
      "outputs": [
        {
          "name": "stdout",
          "output_type": "stream",
          "text": [
            "x + y : tensor([4., 6.])\n"
          ]
        }
      ],
      "source": [
        "print(f'x + y : {x + y}')"
      ]
    },
    {
      "cell_type": "code",
      "execution_count": null,
      "metadata": {
        "id": "I-xW8YsV-Px1",
        "outputId": "b46dc437-0983-4a44-fd5a-fb1efad3536e"
      },
      "outputs": [
        {
          "name": "stdout",
          "output_type": "stream",
          "text": [
            "x - y : tensor([-2., -2.])\n"
          ]
        }
      ],
      "source": [
        "print(f'x - y : {x - y}')"
      ]
    },
    {
      "cell_type": "code",
      "execution_count": null,
      "metadata": {
        "id": "SrB0J5Hq-Px1",
        "outputId": "477fd93d-1263-47ee-df2e-665625896296"
      },
      "outputs": [
        {
          "name": "stdout",
          "output_type": "stream",
          "text": [
            "x * y : tensor([3., 8.])\n"
          ]
        }
      ],
      "source": [
        "print(f'x * y : {x * y}')"
      ]
    },
    {
      "cell_type": "code",
      "execution_count": null,
      "metadata": {
        "id": "o7Cyv0ES-Px1",
        "outputId": "7da6742f-9169-4ec3-c081-fdbd504b3318"
      },
      "outputs": [
        {
          "name": "stdout",
          "output_type": "stream",
          "text": [
            "x / y : tensor([0.3333, 0.5000])\n"
          ]
        }
      ],
      "source": [
        "print(f'x / y : {x / y}')"
      ]
    },
    {
      "cell_type": "markdown",
      "metadata": {
        "id": "KBnsOOd_-Px1"
      },
      "source": [
        "Let's look at two foundational operations: the dot product and matric multiplication:\n",
        "#### The dot-product"
      ]
    },
    {
      "cell_type": "markdown",
      "metadata": {
        "id": "-YR4CPfk-Px1"
      },
      "source": [
        "$\\textbf{u} \\cdot \\textbf{v} = \\sum_i{\\textbf{u}_i \\times \\textbf{v}_i}$"
      ]
    },
    {
      "cell_type": "code",
      "execution_count": null,
      "metadata": {
        "id": "Wo1qBxk1-Px1",
        "outputId": "b13c6ed5-0718-40ae-b17f-482881539845"
      },
      "outputs": [
        {
          "data": {
            "text/plain": [
              "tensor(11.)"
            ]
          },
          "execution_count": 29,
          "metadata": {},
          "output_type": "execute_result"
        }
      ],
      "source": [
        "x.dot(y)"
      ]
    },
    {
      "cell_type": "markdown",
      "metadata": {
        "id": "UCMT83YH-Px1"
      },
      "source": [
        "Dot product is commutative, $\\textbf{u} \\cdot \\textbf{v} = \\textbf{v} \\cdot \\textbf{u}$:"
      ]
    },
    {
      "cell_type": "code",
      "execution_count": null,
      "metadata": {
        "id": "TVLtMWD0-Px1",
        "outputId": "87310282-71b6-4849-cd48-e6ea1817f529"
      },
      "outputs": [
        {
          "data": {
            "text/plain": [
              "tensor(11.)"
            ]
          },
          "execution_count": 30,
          "metadata": {},
          "output_type": "execute_result"
        }
      ],
      "source": [
        "y.dot(x)"
      ]
    },
    {
      "cell_type": "markdown",
      "metadata": {
        "id": "Pxk8OfaR-Px1"
      },
      "source": [
        "### Matrix Multiplication"
      ]
    },
    {
      "cell_type": "markdown",
      "metadata": {
        "id": "NKVrE8r9-Px1"
      },
      "source": [
        "A 2D Example:\n",
        "\n",
        "$\\begin{bmatrix}\n",
        "  10 & 20 & 30 \\\\\n",
        "  40 & 50 & 60\n",
        "\\end{bmatrix}\n",
        "\\begin{bmatrix}\n",
        "  2 & 3 & 5 & 7 \\\\\n",
        "  11 & 13 & 17 & 19 \\\\\n",
        "  23 & 29 & 31 & 37\n",
        "\\end{bmatrix} =\n",
        "\\begin{bmatrix}\n",
        "  930 & 1160 & 1320 & 1560 \\\\\n",
        "  2010 & 2510 & 2910 & 3450\n",
        "\\end{bmatrix}$"
      ]
    },
    {
      "cell_type": "markdown",
      "metadata": {
        "id": "Ecs0P9q6-Px2"
      },
      "source": [
        "A matrix $Q$ of size $m \\times n$ can be multiplied by a matrix $R$ of size $n \\times q$. The result $P$ is an $m \\times q$ matrix where each element is computed as a sum of products:\n",
        "\n",
        "$P_{i,j} = \\sum_{k=1}^n{Q_{i,k} \\times R_{k,j}}$"
      ]
    },
    {
      "cell_type": "markdown",
      "metadata": {
        "id": "ptRvg_Pj-Px2"
      },
      "source": [
        "Each element $P_{i,j}$ is the dot product of the row vector $Q_{i,*}$ and the column vector $R_{*,j}$ (!) :\n",
        "\n",
        "$P_{i,j} = Q_{i,*} \\cdot R_{*,j}$"
      ]
    },
    {
      "cell_type": "markdown",
      "metadata": {
        "id": "cBq9kCY9-Px2"
      },
      "source": [
        "###### Questions\n",
        "1. If we were to define the two matrices in the example above in PyTorch, What would be their shapes?\n",
        "2. Based on this definition, can you write down the calculation that yields `930` in the example above?"
      ]
    },
    {
      "cell_type": "markdown",
      "metadata": {
        "id": "rLUEPmbF-Px2"
      },
      "source": [
        "In `PyTorch`, matrix multiplication is implemented using `torch.matmul`. Let's look at an example:"
      ]
    },
    {
      "cell_type": "code",
      "execution_count": null,
      "metadata": {
        "id": "C_tVWM5D-Px2",
        "outputId": "07b5f472-791d-45d8-8546-78e6aaf15959"
      },
      "outputs": [
        {
          "name": "stdout",
          "output_type": "stream",
          "text": [
            "tensor([[1., 2.],\n",
            "        [3., 4.]])\n",
            "tensor([[5., 6.],\n",
            "        [7., 8.]])\n"
          ]
        }
      ],
      "source": [
        "x = torch.tensor([[1., 2.],[3., 4.]])\n",
        "y = torch.tensor([[5., 6.],[7., 8.]])\n",
        "print(x)\n",
        "print(y)"
      ]
    },
    {
      "cell_type": "code",
      "execution_count": null,
      "metadata": {
        "id": "VguPl7fk-Px2",
        "outputId": "38263844-57c7-4ad5-9051-b89fd6a8cff8"
      },
      "outputs": [
        {
          "name": "stdout",
          "output_type": "stream",
          "text": [
            "tensor([[19., 22.],\n",
            "        [43., 50.]])\n"
          ]
        }
      ],
      "source": [
        "print(torch.matmul(x, y))"
      ]
    },
    {
      "cell_type": "code",
      "execution_count": null,
      "metadata": {
        "id": "UdGzhHo8-Px2",
        "outputId": "90010b6f-c1bd-4f7c-c57b-9df728978038"
      },
      "outputs": [
        {
          "data": {
            "text/plain": [
              "tensor([[19., 22.],\n",
              "        [43., 50.]])"
            ]
          },
          "execution_count": 33,
          "metadata": {},
          "output_type": "execute_result"
        }
      ],
      "source": [
        "x.matmul(y)"
      ]
    },
    {
      "cell_type": "markdown",
      "metadata": {
        "id": "KD3rXvzj-Px2"
      },
      "source": [
        "Python 3.5 [introduced](https://docs.python.org/3/whatsnew/3.5.html#pep-465-a-dedicated-infix-operator-for-matrix-multiplication) the `@` ('At-sign') operator for matrix multiplication. In PyTorch (and Tensorflow) `@` is an alias of `matmul`."
      ]
    },
    {
      "cell_type": "code",
      "execution_count": null,
      "metadata": {
        "id": "vIsr1OD6-Px2",
        "outputId": "3015b338-0d33-45c5-eb39-cf864d4abd6f"
      },
      "outputs": [
        {
          "data": {
            "text/plain": [
              "tensor([[19., 22.],\n",
              "        [43., 50.]])"
            ]
          },
          "execution_count": 34,
          "metadata": {},
          "output_type": "execute_result"
        }
      ],
      "source": [
        "x@y"
      ]
    },
    {
      "cell_type": "markdown",
      "metadata": {
        "id": "zFACTWrG-Px2"
      },
      "source": [
        "#### `torch.matmul` on tensors with rank!=2\n",
        "`torch.matmul` extends the 2D matrix multiplication to lower and higher dimensions. Its [docstring](https://pytorch.org/docs/stable/generated/torch.matmul.html) is very useful to see how the 2D definition is extended into lower or higher dimensions. In other words, the mathematical operation depends on the rank of the tensors."
      ]
    },
    {
      "cell_type": "markdown",
      "metadata": {
        "id": "OANrtbu4-Px3"
      },
      "source": [
        "##### 1-D tensors\n",
        "According to the `troch.matmul` [docstring](https://pytorch.org/docs/stable/generated/torch.matmul.html):\n",
        ">If both tensors are 1-dimensional, the dot product (scalar) is returned.\n",
        "\n",
        "Example:"
      ]
    },
    {
      "cell_type": "code",
      "execution_count": null,
      "metadata": {
        "id": "fy8dlnTn-Px3",
        "outputId": "9b1f65ca-778f-4b2f-f60a-34c950adcb84"
      },
      "outputs": [
        {
          "name": "stdout",
          "output_type": "stream",
          "text": [
            "x: tensor([1., 2.])\n",
            "y: tensor([3., 4.])\n"
          ]
        }
      ],
      "source": [
        "x = torch.tensor([1., 2.])\n",
        "y = torch.tensor([3., 4.])\n",
        "print(f'x: {x}')\n",
        "print(f'y: {y}')"
      ]
    },
    {
      "cell_type": "code",
      "execution_count": null,
      "metadata": {
        "id": "tt8pD5Ey-Px3",
        "outputId": "c7e31fa5-fd1b-45be-cbe5-93294a0fd263"
      },
      "outputs": [
        {
          "data": {
            "text/plain": [
              "tensor(11.)"
            ]
          },
          "execution_count": 36,
          "metadata": {},
          "output_type": "execute_result"
        }
      ],
      "source": [
        "torch.matmul(x, y)"
      ]
    },
    {
      "cell_type": "markdown",
      "metadata": {
        "id": "b-ne4Yeu-Px3"
      },
      "source": [
        "##### matmul on 1D and 2D ranked tensors\n",
        "From the docstring:\n",
        ">If the first argument is 1-dimensional and the second argument is 2-dimensional, a 1 is prepended to its _dimension_ for the purpose of the matrix multiply. After the matrix multiply, the prepended dimension is removed.\n",
        "\n",
        "_prepended: add something to the beginning of something else_\n",
        "\n",
        "An example can be useful:"
      ]
    },
    {
      "cell_type": "markdown",
      "metadata": {
        "id": "KVBL7b64-Px3"
      },
      "source": [
        "$\\begin{bmatrix}\n",
        "  1 \\\\ 2 \\\\\n",
        "\\end{bmatrix}\n",
        "\\begin{bmatrix}\n",
        "  3 & 4 \\\\\n",
        "  5 & 6 \\\\\n",
        "\\end{bmatrix} =\n",
        "\\begin{bmatrix}\n",
        "  13 \\\\ 16 \\\\\n",
        "\\end{bmatrix}$"
      ]
    },
    {
      "cell_type": "markdown",
      "source": [
        "NOTE: here the pytorch will add a row with two columns with value 0 for each element."
      ],
      "metadata": {
        "id": "5wvsgdFwaV_Q"
      }
    },
    {
      "cell_type": "code",
      "execution_count": null,
      "metadata": {
        "id": "W8qWDDJC-Px3",
        "outputId": "f80d2237-5024-4e3a-8a55-c8cd54a3b16e"
      },
      "outputs": [
        {
          "name": "stdout",
          "output_type": "stream",
          "text": [
            "tensor([1., 2.])\n",
            "tensor([[3., 4.],\n",
            "        [5., 6.]])\n",
            "tensor([13., 16.])\n"
          ]
        }
      ],
      "source": [
        "x = torch.tensor([1., 2.])\n",
        "y = torch.tensor([[3., 4.],[5., 6.]])\n",
        "print(x)\n",
        "print(y)\n",
        "print(torch.matmul(x,y))"
      ]
    },
    {
      "cell_type": "markdown",
      "metadata": {
        "id": "E09k6y5T-Px3"
      },
      "source": [
        "From the docstring:\n",
        ">If the first argument is 2-dimensional and the second argument is 1-dimensional, the matrix-vector product is returned."
      ]
    },
    {
      "cell_type": "markdown",
      "metadata": {
        "id": "Qr9FZjAs-Px3"
      },
      "source": [
        "$ \\begin{bmatrix}\n",
        "  3 & 4 \\\\\n",
        "  5 & 6 \\\\\n",
        "\\end{bmatrix}\n",
        "\\begin{bmatrix}\n",
        "  1 \\\\ 2 \\\\\n",
        "\\end{bmatrix}=\n",
        "\\begin{bmatrix}\n",
        "  11 \\\\ 17 \\\\\n",
        "\\end{bmatrix}$"
      ]
    },
    {
      "cell_type": "code",
      "execution_count": null,
      "metadata": {
        "id": "88GLmX5D-Px3",
        "outputId": "e1349cd0-8676-4cdd-f021-80f028d060ae"
      },
      "outputs": [
        {
          "name": "stdout",
          "output_type": "stream",
          "text": [
            "tensor([1., 2.])\n",
            "tensor([[3., 4.],\n",
            "        [5., 6.]])\n"
          ]
        }
      ],
      "source": [
        "x = torch.tensor([1., 2.])\n",
        "y = torch.tensor([[3., 4.],[5., 6.]])\n",
        "print(x)\n",
        "print(y)"
      ]
    },
    {
      "cell_type": "code",
      "execution_count": null,
      "metadata": {
        "id": "CEeJOSC4-Px3",
        "outputId": "b3db1171-153f-422f-dde0-d8c4f43279bc"
      },
      "outputs": [
        {
          "data": {
            "text/plain": [
              "tensor([11., 17.])"
            ]
          },
          "execution_count": 39,
          "metadata": {},
          "output_type": "execute_result"
        }
      ],
      "source": [
        "torch.matmul(y,x)"
      ]
    },
    {
      "cell_type": "markdown",
      "metadata": {
        "id": "PLN3xu8N-Px4"
      },
      "source": [
        "#### matmul when at least one tensor's rank is > 2\n",
        "In this case a batched matrix multiply is returned, using [boardcasting](https://pytorch.org/docs/stable/notes/broadcasting.html#broadcasting-semantics). See the matmul [docstring](https://pytorch.org/docs/stable/generated/torch.matmul.html) for examples. We will go over broadcasting in the Tensorflow's tensors tutorial."
      ]
    },
    {
      "cell_type": "markdown",
      "metadata": {
        "id": "qfG4adWQ-Px4"
      },
      "source": []
    }
  ],
  "metadata": {
    "kernelspec": {
      "display_name": "pytorch_cpu",
      "language": "python",
      "name": "python3"
    },
    "language_info": {
      "codemirror_mode": {
        "name": "ipython",
        "version": 3
      },
      "file_extension": ".py",
      "mimetype": "text/x-python",
      "name": "python",
      "nbconvert_exporter": "python",
      "pygments_lexer": "ipython3",
      "version": "3.11.3"
    },
    "orig_nbformat": 4,
    "colab": {
      "provenance": []
    }
  },
  "nbformat": 4,
  "nbformat_minor": 0
}