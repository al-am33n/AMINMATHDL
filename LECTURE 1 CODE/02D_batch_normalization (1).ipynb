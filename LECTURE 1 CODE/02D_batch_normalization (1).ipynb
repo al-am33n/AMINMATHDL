{
  "cells": [
    {
      "cell_type": "markdown",
      "metadata": {
        "id": "k0h3cSU6ZGO_"
      },
      "source": [
        "# Batch Normalization on CIFAR-10\n",
        "\n",
        "In this notebook we implement batch normalization, which is an opimization method useful for deep feed-forward neural networks, such as deep CNNs. Here we implement it on a toy-model of fully-connected (dense) layers, and toy-data (CIFAR-10).\n",
        "\n",
        "In addition to Batch Normalization, we demonstrate how to implement early stopping, saving a checkpoint model, and use Keras logging for Tensorboard.\n",
        "\n",
        "The main takeaways from this notebook are to know how to implement in Keras:\n",
        "1. Batch Normalization\n",
        "2. Early Stopping\n",
        "3. Saving Checkpoints\n",
        "4. Default Keras Logs into Tensorboard\n",
        "\n",
        "Based on the [notebook](https://github.com/ageron/handson-ml3/blob/main/11_training_deep_neural_networks.ipynb) of Geron, chapter 11, exercise 8.\n",
        "Presented here in accordance with the Apache 2.0 license."
      ]
    },
    {
      "cell_type": "code",
      "execution_count": null,
      "metadata": {
        "id": "mYLpIvJtZGPC"
      },
      "outputs": [],
      "source": [
        "import tensorflow as tf"
      ]
    },
    {
      "cell_type": "markdown",
      "metadata": {
        "id": "tU9uGOujZGPD"
      },
      "source": [
        "## Get the Data\n",
        "CIFAR-10 dataset is composed of 60,000 32 × 32–pixel color images (50,000 for training, 10,000 for testing) with 10 classes (for students: what is the difference between CIFAR-10 and MNIST in that sense?).\n",
        "\n",
        "We get the data from tf.keras.datasets (similar to how we did for MNIST). This means that we get numpy array back.\n",
        "\n",
        "As seen in the [dataset description](https://keras.io/api/datasets/cifar10/), the 10 classes are:\n",
        "\n",
        "Label |\tDescription\n",
        "--- | ---\n",
        "0 |\tairplane\n",
        "1 |\tautomobile\n",
        "2 |\tbird\n",
        "3 |\tcat\n",
        "4 |\tdeer\n",
        "5 |\tdog\n",
        "6 |\tfrog\n",
        "7 |\thorse\n",
        "8 |\tship\n",
        "9 |\ttruck"
      ]
    },
    {
      "cell_type": "code",
      "execution_count": null,
      "metadata": {
        "id": "K0749QQ7ZGPE"
      },
      "outputs": [],
      "source": [
        "cifar10 = tf.keras.datasets.cifar10.load_data()\n",
        "(X_train_full, y_train_full), (X_test, y_test) = cifar10\n",
        "\n",
        "# TODO: for the students: how many images are there in the training and the validation sets?\n",
        "# TODO: for the students: what does 'x' and 'y' stand for?\n",
        "X_train = X_train_full[5000:]\n",
        "y_train = y_train_full[5000:]\n",
        "X_valid = X_train_full[:5000]\n",
        "y_valid = y_train_full[:5000]"
      ]
    },
    {
      "cell_type": "markdown",
      "metadata": {
        "id": "prKkN_oRZGPE"
      },
      "source": [
        "## Data Exploration"
      ]
    },
    {
      "cell_type": "code",
      "execution_count": null,
      "metadata": {
        "id": "uWXWXWRmZGPE",
        "outputId": "7d6e2801-2263-49d5-aeaa-c3069b512afc"
      },
      "outputs": [
        {
          "data": {
            "text/plain": [
              "<matplotlib.image.AxesImage at 0x234b7c45410>"
            ]
          },
          "execution_count": 3,
          "metadata": {},
          "output_type": "execute_result"
        },
        {
          "data": {
            "image/png": "[encoded data removed]",
            "text/plain": [
              "<Figure size 640x480 with 1 Axes>"
            ]
          },
          "metadata": {},
          "output_type": "display_data"
        }
      ],
      "source": [
        "import matplotlib.pyplot as plt\n",
        "plt.imshow(X_train[0])"
      ]
    },
    {
      "cell_type": "code",
      "execution_count": null,
      "metadata": {
        "id": "q1aS1FhiZGPF",
        "outputId": "c64db814-31f7-4d65-cd70-fc777284a5e3"
      },
      "outputs": [
        {
          "name": "stdout",
          "output_type": "stream",
          "text": [
            "[6]\n"
          ]
        }
      ],
      "source": [
        "print(y_train[0])"
      ]
    },
    {
      "cell_type": "code",
      "execution_count": null,
      "metadata": {
        "id": "K3mx8qf1ZGPF"
      },
      "outputs": [],
      "source": [
        "# TODO: for the students: which additional data explorations would you do?"
      ]
    },
    {
      "cell_type": "markdown",
      "metadata": {
        "id": "dgNzthy_ZGPF"
      },
      "source": [
        "## Define the Base Model\n",
        "Here we build a DNN with 20 hidden layers of 100 neurons each.\n",
        "That's too many, but it's the point of this exercise, because it allows us to use some of the optimization techniques we learned."
      ]
    },
    {
      "cell_type": "code",
      "execution_count": null,
      "metadata": {
        "id": "k-yncOG_ZGPF"
      },
      "outputs": [],
      "source": [
        "# TODO: for the students: can you add comments to each line of code below explaining what it does and why?\n",
        "\n",
        "# ?\n",
        "tf.random.set_seed(42)\n",
        "\n",
        "# ?\n",
        "model = tf.keras.Sequential()\n",
        "# ?\n",
        "model.add(tf.keras.layers.Flatten(input_shape=[32, 32, 3]))\n",
        "# ?\n",
        "for _ in range(20):\n",
        "    # ?\n",
        "    model.add(tf.keras.layers.Dense(100,\n",
        "                                    # ?\n",
        "                                    activation=\"swish\",\n",
        "                                    # ?\n",
        "                                    kernel_initializer=\"he_normal\"))\n",
        "# ?\n",
        "model.add(tf.keras.layers.Dense(10, activation=\"softmax\"))"
      ]
    },
    {
      "cell_type": "markdown",
      "metadata": {
        "id": "O9Ejr5_XZGPF"
      },
      "source": [
        "## Define the Loss Function, Optimizer and Metrics"
      ]
    },
    {
      "cell_type": "code",
      "execution_count": null,
      "metadata": {
        "id": "IDq1hsSBZGPF"
      },
      "outputs": [],
      "source": [
        "optimizer = tf.keras.optimizers.Nadam(learning_rate=5e-5)\n",
        "model.compile(loss=\"sparse_categorical_crossentropy\",\n",
        "              optimizer=optimizer,\n",
        "              metrics=[\"accuracy\"])"
      ]
    },
    {
      "cell_type": "markdown",
      "metadata": {
        "id": "49EYyaLBZGPG"
      },
      "source": [
        "## Define Callbacks for Early Stopping, Checkpoints, and Logging"
      ]
    },
    {
      "cell_type": "code",
      "execution_count": null,
      "metadata": {
        "id": "3QjZGlidZGPG"
      },
      "outputs": [],
      "source": [
        "early_stopping_cb = tf.keras.callbacks.EarlyStopping(patience=20,\n",
        "                                                     restore_best_weights=True)\n",
        "model_checkpoint_cb = tf.keras.callbacks.ModelCheckpoint(\"cifar10_model\",\n",
        "                                                         save_best_only=True)\n",
        "run_index = 1 # increment every time you train the model\n",
        "run_logdir = f\"./runs/cifar10_logs/run_{run_index:03d}\"\n",
        "tensorboard_cb = tf.keras.callbacks.TensorBoard(run_logdir)\n",
        "callbacks = [early_stopping_cb, model_checkpoint_cb, tensorboard_cb]"
      ]
    },
    {
      "cell_type": "markdown",
      "metadata": {
        "id": "s0J6tDCHZGPG"
      },
      "source": [
        "## Traing the Model\n",
        "Before start running the training, initialize Tensorboard, such that you can view the training as it progresses."
      ]
    },
    {
      "cell_type": "code",
      "execution_count": null,
      "metadata": {
        "id": "lKUUfJkTZGPG",
        "outputId": "52a48837-730e-4dc7-cdfb-4005b77b2899"
      },
      "outputs": [
        {
          "name": "stdout",
          "output_type": "stream",
          "text": [
            "Epoch 1/100\n",
            "1402/1407 [============================>.] - ETA: 0s - loss: 4.2818 - accuracy: 0.1513"
          ]
        },
        {
          "name": "stderr",
          "output_type": "stream",
          "text": [
            "WARNING:absl:Found untraced functions such as _update_step_xla while saving (showing 1 of 1). These functions will not be directly callable after loading.\n"
          ]
        },
        {
          "name": "stdout",
          "output_type": "stream",
          "text": [
            "INFO:tensorflow:Assets written to: cifar10_model\\assets\n"
          ]
        },
        {
          "name": "stderr",
          "output_type": "stream",
          "text": [
            "INFO:tensorflow:Assets written to: cifar10_model\\assets\n"
          ]
        },
        {
          "name": "stdout",
          "output_type": "stream",
          "text": [
            "1407/1407 [==============================] - 28s 15ms/step - loss: 4.2756 - accuracy: 0.1515 - val_loss: 2.1403 - val_accuracy: 0.2244\n",
            "Epoch 2/100\n",
            "1406/1407 [============================>.] - ETA: 0s - loss: 2.0810 - accuracy: 0.2313"
          ]
        },
        {
          "name": "stderr",
          "output_type": "stream",
          "text": [
            "WARNING:absl:Found untraced functions such as _update_step_xla while saving (showing 1 of 1). These functions will not be directly callable after loading.\n"
          ]
        },
        {
          "name": "stdout",
          "output_type": "stream",
          "text": [
            "INFO:tensorflow:Assets written to: cifar10_model\\assets\n"
          ]
        },
        {
          "name": "stderr",
          "output_type": "stream",
          "text": [
            "INFO:tensorflow:Assets written to: cifar10_model\\assets\n"
          ]
        },
        {
          "name": "stdout",
          "output_type": "stream",
          "text": [
            "1407/1407 [==============================] - 20s 14ms/step - loss: 2.0809 - accuracy: 0.2313 - val_loss: 1.9804 - val_accuracy: 0.2630\n",
            "Epoch 3/100\n",
            "1406/1407 [============================>.] - ETA: 0s - loss: 1.9533 - accuracy: 0.2763"
          ]
        },
        {
          "name": "stderr",
          "output_type": "stream",
          "text": [
            "WARNING:absl:Found untraced functions such as _update_step_xla while saving (showing 1 of 1). These functions will not be directly callable after loading.\n"
          ]
        },
        {
          "name": "stdout",
          "output_type": "stream",
          "text": [
            "INFO:tensorflow:Assets written to: cifar10_model\\assets\n"
          ]
        },
        {
          "name": "stderr",
          "output_type": "stream",
          "text": [
            "INFO:tensorflow:Assets written to: cifar10_model\\assets\n"
          ]
        },
        {
          "name": "stdout",
          "output_type": "stream",
          "text": [
            "1407/1407 [==============================] - 20s 14ms/step - loss: 1.9534 - accuracy: 0.2763 - val_loss: 1.8966 - val_accuracy: 0.2916\n",
            "Epoch 4/100\n",
            "1407/1407 [==============================] - ETA: 0s - loss: 1.8783 - accuracy: 0.3088"
          ]
        },
        {
          "name": "stderr",
          "output_type": "stream",
          "text": [
            "WARNING:absl:Found untraced functions such as _update_step_xla while saving (showing 1 of 1). These functions will not be directly callable after loading.\n"
          ]
        },
        {
          "name": "stdout",
          "output_type": "stream",
          "text": [
            "INFO:tensorflow:Assets written to: cifar10_model\\assets\n"
          ]
        },
        {
          "name": "stderr",
          "output_type": "stream",
          "text": [
            "INFO:tensorflow:Assets written to: cifar10_model\\assets\n"
          ]
        },
        {
          "name": "stdout",
          "output_type": "stream",
          "text": [
            "1407/1407 [==============================] - 20s 14ms/step - loss: 1.8783 - accuracy: 0.3088 - val_loss: 1.8738 - val_accuracy: 0.3116\n",
            "Epoch 5/100\n",
            "1403/1407 [============================>.] - ETA: 0s - loss: 1.8249 - accuracy: 0.3340"
          ]
        },
        {
          "name": "stderr",
          "output_type": "stream",
          "text": [
            "WARNING:absl:Found untraced functions such as _update_step_xla while saving (showing 1 of 1). These functions will not be directly callable after loading.\n"
          ]
        },
        {
          "name": "stdout",
          "output_type": "stream",
          "text": [
            "INFO:tensorflow:Assets written to: cifar10_model\\assets\n"
          ]
        },
        {
          "name": "stderr",
          "output_type": "stream",
          "text": [
            "INFO:tensorflow:Assets written to: cifar10_model\\assets\n"
          ]
        },
        {
          "name": "stdout",
          "output_type": "stream",
          "text": [
            "1407/1407 [==============================] - 20s 14ms/step - loss: 1.8247 - accuracy: 0.3341 - val_loss: 1.8041 - val_accuracy: 0.3430\n",
            "Epoch 6/100\n",
            "1405/1407 [============================>.] - ETA: 0s - loss: 1.7816 - accuracy: 0.3508"
          ]
        },
        {
          "name": "stderr",
          "output_type": "stream",
          "text": [
            "WARNING:absl:Found untraced functions such as _update_step_xla while saving (showing 1 of 1). These functions will not be directly callable after loading.\n"
          ]
        },
        {
          "name": "stdout",
          "output_type": "stream",
          "text": [
            "INFO:tensorflow:Assets written to: cifar10_model\\assets\n"
          ]
        },
        {
          "name": "stderr",
          "output_type": "stream",
          "text": [
            "INFO:tensorflow:Assets written to: cifar10_model\\assets\n"
          ]
        },
        {
          "name": "stdout",
          "output_type": "stream",
          "text": [
            "1407/1407 [==============================] - 21s 15ms/step - loss: 1.7817 - accuracy: 0.3507 - val_loss: 1.7502 - val_accuracy: 0.3600\n",
            "Epoch 7/100\n",
            "1407/1407 [==============================] - ETA: 0s - loss: 1.7318 - accuracy: 0.3694"
          ]
        },
        {
          "name": "stderr",
          "output_type": "stream",
          "text": [
            "WARNING:absl:Found untraced functions such as _update_step_xla while saving (showing 1 of 1). These functions will not be directly callable after loading.\n"
          ]
        },
        {
          "name": "stdout",
          "output_type": "stream",
          "text": [
            "INFO:tensorflow:Assets written to: cifar10_model\\assets\n"
          ]
        },
        {
          "name": "stderr",
          "output_type": "stream",
          "text": [
            "INFO:tensorflow:Assets written to: cifar10_model\\assets\n"
          ]
        },
        {
          "name": "stdout",
          "output_type": "stream",
          "text": [
            "1407/1407 [==============================] - 21s 15ms/step - loss: 1.7318 - accuracy: 0.3694 - val_loss: 1.7351 - val_accuracy: 0.3738\n",
            "Epoch 8/100\n",
            "1407/1407 [==============================] - ETA: 0s - loss: 1.7002 - accuracy: 0.3855"
          ]
        },
        {
          "name": "stderr",
          "output_type": "stream",
          "text": [
            "WARNING:absl:Found untraced functions such as _update_step_xla while saving (showing 1 of 1). These functions will not be directly callable after loading.\n"
          ]
        },
        {
          "name": "stdout",
          "output_type": "stream",
          "text": [
            "INFO:tensorflow:Assets written to: cifar10_model\\assets\n"
          ]
        },
        {
          "name": "stderr",
          "output_type": "stream",
          "text": [
            "INFO:tensorflow:Assets written to: cifar10_model\\assets\n"
          ]
        },
        {
          "name": "stdout",
          "output_type": "stream",
          "text": [
            "1407/1407 [==============================] - 20s 15ms/step - loss: 1.7002 - accuracy: 0.3855 - val_loss: 1.7028 - val_accuracy: 0.3880\n",
            "Epoch 9/100\n",
            "1404/1407 [============================>.] - ETA: 0s - loss: 1.6715 - accuracy: 0.3944"
          ]
        },
        {
          "name": "stderr",
          "output_type": "stream",
          "text": [
            "WARNING:absl:Found untraced functions such as _update_step_xla while saving (showing 1 of 1). These functions will not be directly callable after loading.\n"
          ]
        },
        {
          "name": "stdout",
          "output_type": "stream",
          "text": [
            "INFO:tensorflow:Assets written to: cifar10_model\\assets\n"
          ]
        },
        {
          "name": "stderr",
          "output_type": "stream",
          "text": [
            "INFO:tensorflow:Assets written to: cifar10_model\\assets\n"
          ]
        },
        {
          "name": "stdout",
          "output_type": "stream",
          "text": [
            "1407/1407 [==============================] - 21s 15ms/step - loss: 1.6713 - accuracy: 0.3944 - val_loss: 1.6720 - val_accuracy: 0.3976\n",
            "Epoch 10/100\n",
            "1407/1407 [==============================] - 15s 11ms/step - loss: 1.6482 - accuracy: 0.4057 - val_loss: 1.6938 - val_accuracy: 0.3794\n",
            "Epoch 11/100\n",
            "1404/1407 [============================>.] - ETA: 0s - loss: 1.6274 - accuracy: 0.4125"
          ]
        },
        {
          "name": "stderr",
          "output_type": "stream",
          "text": [
            "WARNING:absl:Found untraced functions such as _update_step_xla while saving (showing 1 of 1). These functions will not be directly callable after loading.\n"
          ]
        },
        {
          "name": "stdout",
          "output_type": "stream",
          "text": [
            "INFO:tensorflow:Assets written to: cifar10_model\\assets\n"
          ]
        },
        {
          "name": "stderr",
          "output_type": "stream",
          "text": [
            "INFO:tensorflow:Assets written to: cifar10_model\\assets\n"
          ]
        },
        {
          "name": "stdout",
          "output_type": "stream",
          "text": [
            "1407/1407 [==============================] - 20s 14ms/step - loss: 1.6271 - accuracy: 0.4126 - val_loss: 1.6652 - val_accuracy: 0.3930\n",
            "Epoch 12/100\n",
            "1407/1407 [==============================] - ETA: 0s - loss: 1.6070 - accuracy: 0.4223"
          ]
        },
        {
          "name": "stderr",
          "output_type": "stream",
          "text": [
            "WARNING:absl:Found untraced functions such as _update_step_xla while saving (showing 1 of 1). These functions will not be directly callable after loading.\n"
          ]
        },
        {
          "name": "stdout",
          "output_type": "stream",
          "text": [
            "INFO:tensorflow:Assets written to: cifar10_model\\assets\n"
          ]
        },
        {
          "name": "stderr",
          "output_type": "stream",
          "text": [
            "INFO:tensorflow:Assets written to: cifar10_model\\assets\n"
          ]
        },
        {
          "name": "stdout",
          "output_type": "stream",
          "text": [
            "1407/1407 [==============================] - 20s 14ms/step - loss: 1.6070 - accuracy: 0.4223 - val_loss: 1.6641 - val_accuracy: 0.4018\n",
            "Epoch 13/100\n",
            "1403/1407 [============================>.] - ETA: 0s - loss: 1.5832 - accuracy: 0.4306"
          ]
        },
        {
          "name": "stderr",
          "output_type": "stream",
          "text": [
            "WARNING:absl:Found untraced functions such as _update_step_xla while saving (showing 1 of 1). These functions will not be directly callable after loading.\n"
          ]
        },
        {
          "name": "stdout",
          "output_type": "stream",
          "text": [
            "INFO:tensorflow:Assets written to: cifar10_model\\assets\n"
          ]
        },
        {
          "name": "stderr",
          "output_type": "stream",
          "text": [
            "INFO:tensorflow:Assets written to: cifar10_model\\assets\n"
          ]
        },
        {
          "name": "stdout",
          "output_type": "stream",
          "text": [
            "1407/1407 [==============================] - 24s 17ms/step - loss: 1.5832 - accuracy: 0.4306 - val_loss: 1.6276 - val_accuracy: 0.4132\n",
            "Epoch 14/100\n",
            "1406/1407 [============================>.] - ETA: 0s - loss: 1.5707 - accuracy: 0.4361"
          ]
        },
        {
          "name": "stderr",
          "output_type": "stream",
          "text": [
            "WARNING:absl:Found untraced functions such as _update_step_xla while saving (showing 1 of 1). These functions will not be directly callable after loading.\n"
          ]
        },
        {
          "name": "stdout",
          "output_type": "stream",
          "text": [
            "INFO:tensorflow:Assets written to: cifar10_model\\assets\n"
          ]
        },
        {
          "name": "stderr",
          "output_type": "stream",
          "text": [
            "INFO:tensorflow:Assets written to: cifar10_model\\assets\n"
          ]
        },
        {
          "name": "stdout",
          "output_type": "stream",
          "text": [
            "1407/1407 [==============================] - 20s 14ms/step - loss: 1.5707 - accuracy: 0.4361 - val_loss: 1.5913 - val_accuracy: 0.4286\n",
            "Epoch 15/100\n",
            "1407/1407 [==============================] - 15s 11ms/step - loss: 1.5533 - accuracy: 0.4408 - val_loss: 1.5986 - val_accuracy: 0.4264\n",
            "Epoch 16/100\n",
            "1407/1407 [==============================] - 16s 11ms/step - loss: 1.5401 - accuracy: 0.4478 - val_loss: 1.6042 - val_accuracy: 0.4256\n",
            "Epoch 17/100\n",
            "1404/1407 [============================>.] - ETA: 0s - loss: 1.5272 - accuracy: 0.4525"
          ]
        },
        {
          "name": "stderr",
          "output_type": "stream",
          "text": [
            "WARNING:absl:Found untraced functions such as _update_step_xla while saving (showing 1 of 1). These functions will not be directly callable after loading.\n"
          ]
        },
        {
          "name": "stdout",
          "output_type": "stream",
          "text": [
            "INFO:tensorflow:Assets written to: cifar10_model\\assets\n"
          ]
        },
        {
          "name": "stderr",
          "output_type": "stream",
          "text": [
            "INFO:tensorflow:Assets written to: cifar10_model\\assets\n"
          ]
        },
        {
          "name": "stdout",
          "output_type": "stream",
          "text": [
            "1407/1407 [==============================] - 20s 14ms/step - loss: 1.5269 - accuracy: 0.4526 - val_loss: 1.5791 - val_accuracy: 0.4338\n",
            "Epoch 18/100\n",
            "1407/1407 [==============================] - 14s 10ms/step - loss: 1.5127 - accuracy: 0.4584 - val_loss: 1.5860 - val_accuracy: 0.4356\n",
            "Epoch 19/100\n",
            "1404/1407 [============================>.] - ETA: 0s - loss: 1.5001 - accuracy: 0.4649"
          ]
        },
        {
          "name": "stderr",
          "output_type": "stream",
          "text": [
            "WARNING:absl:Found untraced functions such as _update_step_xla while saving (showing 1 of 1). These functions will not be directly callable after loading.\n"
          ]
        },
        {
          "name": "stdout",
          "output_type": "stream",
          "text": [
            "INFO:tensorflow:Assets written to: cifar10_model\\assets\n"
          ]
        },
        {
          "name": "stderr",
          "output_type": "stream",
          "text": [
            "INFO:tensorflow:Assets written to: cifar10_model\\assets\n"
          ]
        },
        {
          "name": "stdout",
          "output_type": "stream",
          "text": [
            "1407/1407 [==============================] - 22s 15ms/step - loss: 1.4998 - accuracy: 0.4650 - val_loss: 1.5625 - val_accuracy: 0.4378\n",
            "Epoch 20/100\n",
            "1407/1407 [==============================] - 15s 11ms/step - loss: 1.4885 - accuracy: 0.4673 - val_loss: 1.6041 - val_accuracy: 0.4346\n",
            "Epoch 21/100\n",
            "1407/1407 [==============================] - 15s 10ms/step - loss: 1.4793 - accuracy: 0.4708 - val_loss: 1.5934 - val_accuracy: 0.4312\n",
            "Epoch 22/100\n",
            "1407/1407 [==============================] - 15s 10ms/step - loss: 1.4666 - accuracy: 0.4748 - val_loss: 1.5676 - val_accuracy: 0.4412\n",
            "Epoch 23/100\n",
            "1407/1407 [==============================] - 14s 10ms/step - loss: 1.4566 - accuracy: 0.4794 - val_loss: 1.5868 - val_accuracy: 0.4334\n",
            "Epoch 24/100\n",
            "1407/1407 [==============================] - 15s 10ms/step - loss: 1.4470 - accuracy: 0.4815 - val_loss: 1.5772 - val_accuracy: 0.4312\n",
            "Epoch 25/100\n",
            "1407/1407 [==============================] - ETA: 0s - loss: 1.4372 - accuracy: 0.4861"
          ]
        },
        {
          "name": "stderr",
          "output_type": "stream",
          "text": [
            "WARNING:absl:Found untraced functions such as _update_step_xla while saving (showing 1 of 1). These functions will not be directly callable after loading.\n"
          ]
        },
        {
          "name": "stdout",
          "output_type": "stream",
          "text": [
            "INFO:tensorflow:Assets written to: cifar10_model\\assets\n"
          ]
        },
        {
          "name": "stderr",
          "output_type": "stream",
          "text": [
            "INFO:tensorflow:Assets written to: cifar10_model\\assets\n"
          ]
        },
        {
          "name": "stdout",
          "output_type": "stream",
          "text": [
            "1407/1407 [==============================] - 20s 14ms/step - loss: 1.4372 - accuracy: 0.4861 - val_loss: 1.5530 - val_accuracy: 0.4470\n",
            "Epoch 26/100\n",
            "1407/1407 [==============================] - 14s 10ms/step - loss: 1.4283 - accuracy: 0.4871 - val_loss: 1.5633 - val_accuracy: 0.4374\n",
            "Epoch 27/100\n",
            "1407/1407 [==============================] - 14s 10ms/step - loss: 1.4163 - accuracy: 0.4945 - val_loss: 1.5593 - val_accuracy: 0.4486\n",
            "Epoch 28/100\n",
            "1406/1407 [============================>.] - ETA: 0s - loss: 1.4103 - accuracy: 0.4977"
          ]
        },
        {
          "name": "stderr",
          "output_type": "stream",
          "text": [
            "WARNING:absl:Found untraced functions such as _update_step_xla while saving (showing 1 of 1). These functions will not be directly callable after loading.\n"
          ]
        },
        {
          "name": "stdout",
          "output_type": "stream",
          "text": [
            "INFO:tensorflow:Assets written to: cifar10_model\\assets\n"
          ]
        },
        {
          "name": "stderr",
          "output_type": "stream",
          "text": [
            "INFO:tensorflow:Assets written to: cifar10_model\\assets\n"
          ]
        },
        {
          "name": "stdout",
          "output_type": "stream",
          "text": [
            "1407/1407 [==============================] - 19s 14ms/step - loss: 1.4105 - accuracy: 0.4976 - val_loss: 1.5404 - val_accuracy: 0.4464\n",
            "Epoch 29/100\n",
            "1406/1407 [============================>.] - ETA: 0s - loss: 1.4002 - accuracy: 0.5010"
          ]
        },
        {
          "name": "stderr",
          "output_type": "stream",
          "text": [
            "WARNING:absl:Found untraced functions such as _update_step_xla while saving (showing 1 of 1). These functions will not be directly callable after loading.\n"
          ]
        },
        {
          "name": "stdout",
          "output_type": "stream",
          "text": [
            "INFO:tensorflow:Assets written to: cifar10_model\\assets\n"
          ]
        },
        {
          "name": "stderr",
          "output_type": "stream",
          "text": [
            "INFO:tensorflow:Assets written to: cifar10_model\\assets\n"
          ]
        },
        {
          "name": "stdout",
          "output_type": "stream",
          "text": [
            "1407/1407 [==============================] - 19s 14ms/step - loss: 1.4003 - accuracy: 0.5010 - val_loss: 1.5354 - val_accuracy: 0.4590\n",
            "Epoch 30/100\n",
            "1407/1407 [==============================] - 15s 10ms/step - loss: 1.3897 - accuracy: 0.5036 - val_loss: 1.5882 - val_accuracy: 0.4348\n",
            "Epoch 31/100\n",
            "1407/1407 [==============================] - 18s 13ms/step - loss: 1.3853 - accuracy: 0.5033 - val_loss: 1.5682 - val_accuracy: 0.4512\n",
            "Epoch 32/100\n",
            "1407/1407 [==============================] - 19s 14ms/step - loss: 1.3757 - accuracy: 0.5078 - val_loss: 1.5412 - val_accuracy: 0.4554\n",
            "Epoch 33/100\n",
            "1406/1407 [============================>.] - ETA: 0s - loss: 1.3706 - accuracy: 0.5082"
          ]
        },
        {
          "name": "stderr",
          "output_type": "stream",
          "text": [
            "WARNING:absl:Found untraced functions such as _update_step_xla while saving (showing 1 of 1). These functions will not be directly callable after loading.\n"
          ]
        },
        {
          "name": "stdout",
          "output_type": "stream",
          "text": [
            "INFO:tensorflow:Assets written to: cifar10_model\\assets\n"
          ]
        },
        {
          "name": "stderr",
          "output_type": "stream",
          "text": [
            "INFO:tensorflow:Assets written to: cifar10_model\\assets\n"
          ]
        },
        {
          "name": "stdout",
          "output_type": "stream",
          "text": [
            "1407/1407 [==============================] - 29s 21ms/step - loss: 1.3705 - accuracy: 0.5082 - val_loss: 1.5273 - val_accuracy: 0.4602\n",
            "Epoch 34/100\n",
            "1407/1407 [==============================] - 20s 14ms/step - loss: 1.3624 - accuracy: 0.5148 - val_loss: 1.5912 - val_accuracy: 0.4432\n",
            "Epoch 35/100\n",
            "1407/1407 [==============================] - 17s 12ms/step - loss: 1.3501 - accuracy: 0.5182 - val_loss: 1.5656 - val_accuracy: 0.4510\n",
            "Epoch 36/100\n",
            "1407/1407 [==============================] - 16s 11ms/step - loss: 1.3478 - accuracy: 0.5196 - val_loss: 1.5330 - val_accuracy: 0.4534\n",
            "Epoch 37/100\n",
            "1407/1407 [==============================] - 16s 11ms/step - loss: 1.3353 - accuracy: 0.5208 - val_loss: 1.5402 - val_accuracy: 0.4610\n",
            "Epoch 38/100\n",
            "1407/1407 [==============================] - 16s 11ms/step - loss: 1.3297 - accuracy: 0.5253 - val_loss: 1.5326 - val_accuracy: 0.4536\n",
            "Epoch 39/100\n",
            "1407/1407 [==============================] - 16s 11ms/step - loss: 1.3222 - accuracy: 0.5285 - val_loss: 1.5674 - val_accuracy: 0.4422\n",
            "Epoch 40/100\n",
            "1407/1407 [==============================] - 16s 12ms/step - loss: 1.3135 - accuracy: 0.5306 - val_loss: 1.5563 - val_accuracy: 0.4594\n",
            "Epoch 41/100\n",
            "1407/1407 [==============================] - 15s 11ms/step - loss: 1.3095 - accuracy: 0.5331 - val_loss: 1.5556 - val_accuracy: 0.4518\n",
            "Epoch 42/100\n",
            "1407/1407 [==============================] - 14s 10ms/step - loss: 1.3006 - accuracy: 0.5337 - val_loss: 1.5653 - val_accuracy: 0.4516\n",
            "Epoch 43/100\n",
            "1407/1407 [==============================] - 14s 10ms/step - loss: 1.2963 - accuracy: 0.5362 - val_loss: 1.5582 - val_accuracy: 0.4578\n",
            "Epoch 44/100\n",
            "1407/1407 [==============================] - 14s 10ms/step - loss: 1.2881 - accuracy: 0.5404 - val_loss: 1.5959 - val_accuracy: 0.4470\n",
            "Epoch 45/100\n",
            "1407/1407 [==============================] - 14s 10ms/step - loss: 1.2815 - accuracy: 0.5415 - val_loss: 1.5311 - val_accuracy: 0.4628\n",
            "Epoch 46/100\n",
            "1407/1407 [==============================] - 14s 10ms/step - loss: 1.2720 - accuracy: 0.5445 - val_loss: 1.5399 - val_accuracy: 0.4632\n",
            "Epoch 47/100\n",
            "1407/1407 [==============================] - 14s 10ms/step - loss: 1.2641 - accuracy: 0.5485 - val_loss: 1.5482 - val_accuracy: 0.4674\n",
            "Epoch 48/100\n",
            "1407/1407 [==============================] - 14s 10ms/step - loss: 1.2617 - accuracy: 0.5495 - val_loss: 1.5694 - val_accuracy: 0.4546\n",
            "Epoch 49/100\n",
            "1407/1407 [==============================] - 14s 10ms/step - loss: 1.2528 - accuracy: 0.5524 - val_loss: 1.5597 - val_accuracy: 0.4572\n",
            "Epoch 50/100\n",
            "1407/1407 [==============================] - 14s 10ms/step - loss: 1.2492 - accuracy: 0.5536 - val_loss: 1.5944 - val_accuracy: 0.4502\n",
            "Epoch 51/100\n",
            "1407/1407 [==============================] - 14s 10ms/step - loss: 1.2421 - accuracy: 0.5546 - val_loss: 1.6118 - val_accuracy: 0.4568\n",
            "Epoch 52/100\n",
            "1407/1407 [==============================] - 14s 10ms/step - loss: 1.2367 - accuracy: 0.5563 - val_loss: 1.5780 - val_accuracy: 0.4610\n",
            "Epoch 53/100\n",
            "1407/1407 [==============================] - 15s 11ms/step - loss: 1.2271 - accuracy: 0.5605 - val_loss: 1.5489 - val_accuracy: 0.4710\n"
          ]
        },
        {
          "data": {
            "text/plain": [
              "<keras.callbacks.History at 0x234b7c88a10>"
            ]
          },
          "execution_count": 9,
          "metadata": {},
          "output_type": "execute_result"
        }
      ],
      "source": [
        "model.fit(X_train, y_train, epochs=100,\n",
        "          validation_data=(X_valid, y_valid),\n",
        "          callbacks=callbacks)"
      ]
    },
    {
      "cell_type": "markdown",
      "metadata": {
        "id": "GZG2BUq4ZGPG"
      },
      "source": [
        "### Batch Normalization"
      ]
    },
    {
      "cell_type": "code",
      "execution_count": null,
      "metadata": {
        "id": "-FOAWYqhZGPG",
        "outputId": "6c9e17f3-1d1d-4888-84d5-7b44bedc1335"
      },
      "outputs": [
        {
          "name": "stdout",
          "output_type": "stream",
          "text": [
            "Epoch 1/100\n",
            "1405/1407 [============================>.] - ETA: 0s - loss: 2.0587 - accuracy: 0.2486"
          ]
        },
        {
          "name": "stderr",
          "output_type": "stream",
          "text": [
            "WARNING:absl:Found untraced functions such as _update_step_xla while saving (showing 1 of 1). These functions will not be directly callable after loading.\n"
          ]
        },
        {
          "name": "stdout",
          "output_type": "stream",
          "text": [
            "INFO:tensorflow:Assets written to: cifar10_bn_model\\assets\n"
          ]
        },
        {
          "name": "stderr",
          "output_type": "stream",
          "text": [
            "INFO:tensorflow:Assets written to: cifar10_bn_model\\assets\n"
          ]
        },
        {
          "name": "stdout",
          "output_type": "stream",
          "text": [
            "1407/1407 [==============================] - 337s 30ms/step - loss: 2.0587 - accuracy: 0.2486 - val_loss: 1.9431 - val_accuracy: 0.3086\n",
            "Epoch 2/100\n",
            "1406/1407 [============================>.] - ETA: 0s - loss: 1.7941 - accuracy: 0.3535"
          ]
        },
        {
          "name": "stderr",
          "output_type": "stream",
          "text": [
            "WARNING:absl:Found untraced functions such as _update_step_xla while saving (showing 1 of 1). These functions will not be directly callable after loading.\n"
          ]
        },
        {
          "name": "stdout",
          "output_type": "stream",
          "text": [
            "INFO:tensorflow:Assets written to: cifar10_bn_model\\assets\n"
          ]
        },
        {
          "name": "stderr",
          "output_type": "stream",
          "text": [
            "INFO:tensorflow:Assets written to: cifar10_bn_model\\assets\n"
          ]
        },
        {
          "name": "stdout",
          "output_type": "stream",
          "text": [
            "1407/1407 [==============================] - 37s 26ms/step - loss: 1.7941 - accuracy: 0.3535 - val_loss: 1.8227 - val_accuracy: 0.3592\n",
            "Epoch 3/100\n",
            "1405/1407 [============================>.] - ETA: 0s - loss: 1.6840 - accuracy: 0.3973"
          ]
        },
        {
          "name": "stderr",
          "output_type": "stream",
          "text": [
            "WARNING:absl:Found untraced functions such as _update_step_xla while saving (showing 1 of 1). These functions will not be directly callable after loading.\n"
          ]
        },
        {
          "name": "stdout",
          "output_type": "stream",
          "text": [
            "INFO:tensorflow:Assets written to: cifar10_bn_model\\assets\n"
          ]
        },
        {
          "name": "stderr",
          "output_type": "stream",
          "text": [
            "INFO:tensorflow:Assets written to: cifar10_bn_model\\assets\n"
          ]
        },
        {
          "name": "stdout",
          "output_type": "stream",
          "text": [
            "1407/1407 [==============================] - 38s 27ms/step - loss: 1.6838 - accuracy: 0.3975 - val_loss: 1.7438 - val_accuracy: 0.3806\n",
            "Epoch 4/100\n",
            "1405/1407 [============================>.] - ETA: 0s - loss: 1.6111 - accuracy: 0.4237"
          ]
        },
        {
          "name": "stderr",
          "output_type": "stream",
          "text": [
            "WARNING:absl:Found untraced functions such as _update_step_xla while saving (showing 1 of 1). These functions will not be directly callable after loading.\n"
          ]
        },
        {
          "name": "stdout",
          "output_type": "stream",
          "text": [
            "INFO:tensorflow:Assets written to: cifar10_bn_model\\assets\n"
          ]
        },
        {
          "name": "stderr",
          "output_type": "stream",
          "text": [
            "INFO:tensorflow:Assets written to: cifar10_bn_model\\assets\n"
          ]
        },
        {
          "name": "stdout",
          "output_type": "stream",
          "text": [
            "1407/1407 [==============================] - 42s 30ms/step - loss: 1.6112 - accuracy: 0.4236 - val_loss: 1.6386 - val_accuracy: 0.4024\n",
            "Epoch 5/100\n",
            "1407/1407 [==============================] - 28s 20ms/step - loss: 1.5632 - accuracy: 0.4446 - val_loss: 1.6867 - val_accuracy: 0.3854\n",
            "Epoch 6/100\n",
            "1407/1407 [==============================] - ETA: 0s - loss: 1.5128 - accuracy: 0.4652"
          ]
        },
        {
          "name": "stderr",
          "output_type": "stream",
          "text": [
            "WARNING:absl:Found untraced functions such as _update_step_xla while saving (showing 1 of 1). These functions will not be directly callable after loading.\n"
          ]
        },
        {
          "name": "stdout",
          "output_type": "stream",
          "text": [
            "INFO:tensorflow:Assets written to: cifar10_bn_model\\assets\n"
          ]
        },
        {
          "name": "stderr",
          "output_type": "stream",
          "text": [
            "INFO:tensorflow:Assets written to: cifar10_bn_model\\assets\n"
          ]
        },
        {
          "name": "stdout",
          "output_type": "stream",
          "text": [
            "1407/1407 [==============================] - 54s 38ms/step - loss: 1.5128 - accuracy: 0.4652 - val_loss: 1.5506 - val_accuracy: 0.4396\n",
            "Epoch 7/100\n",
            "1407/1407 [==============================] - 38s 27ms/step - loss: 1.4671 - accuracy: 0.4799 - val_loss: 1.6614 - val_accuracy: 0.4240\n",
            "Epoch 8/100\n",
            "1407/1407 [==============================] - 41s 29ms/step - loss: 1.4302 - accuracy: 0.4938 - val_loss: 1.5765 - val_accuracy: 0.4292\n",
            "Epoch 9/100\n",
            "1406/1407 [============================>.] - ETA: 0s - loss: 1.3954 - accuracy: 0.5093"
          ]
        },
        {
          "name": "stderr",
          "output_type": "stream",
          "text": [
            "WARNING:absl:Found untraced functions such as _update_step_xla while saving (showing 1 of 1). These functions will not be directly callable after loading.\n"
          ]
        },
        {
          "name": "stdout",
          "output_type": "stream",
          "text": [
            "INFO:tensorflow:Assets written to: cifar10_bn_model\\assets\n"
          ]
        },
        {
          "name": "stderr",
          "output_type": "stream",
          "text": [
            "INFO:tensorflow:Assets written to: cifar10_bn_model\\assets\n"
          ]
        },
        {
          "name": "stdout",
          "output_type": "stream",
          "text": [
            "1407/1407 [==============================] - 78s 55ms/step - loss: 1.3954 - accuracy: 0.5093 - val_loss: 1.5060 - val_accuracy: 0.4656\n",
            "Epoch 10/100\n",
            "1407/1407 [==============================] - 42s 30ms/step - loss: 1.3621 - accuracy: 0.5171 - val_loss: 1.5754 - val_accuracy: 0.4382\n",
            "Epoch 11/100\n",
            "1407/1407 [==============================] - 41s 29ms/step - loss: 1.3364 - accuracy: 0.5261 - val_loss: 1.5168 - val_accuracy: 0.4716\n",
            "Epoch 12/100\n",
            "1407/1407 [==============================] - 35s 25ms/step - loss: 1.3023 - accuracy: 0.5420 - val_loss: 1.6920 - val_accuracy: 0.4122\n",
            "Epoch 13/100\n",
            "1407/1407 [==============================] - 35s 25ms/step - loss: 1.2783 - accuracy: 0.5467 - val_loss: 1.5458 - val_accuracy: 0.4648\n",
            "Epoch 14/100\n",
            "1407/1407 [==============================] - ETA: 0s - loss: 1.2533 - accuracy: 0.5555"
          ]
        },
        {
          "name": "stderr",
          "output_type": "stream",
          "text": [
            "WARNING:absl:Found untraced functions such as _update_step_xla while saving (showing 1 of 1). These functions will not be directly callable after loading.\n"
          ]
        },
        {
          "name": "stdout",
          "output_type": "stream",
          "text": [
            "INFO:tensorflow:Assets written to: cifar10_bn_model\\assets\n"
          ]
        },
        {
          "name": "stderr",
          "output_type": "stream",
          "text": [
            "INFO:tensorflow:Assets written to: cifar10_bn_model\\assets\n"
          ]
        },
        {
          "name": "stdout",
          "output_type": "stream",
          "text": [
            "1407/1407 [==============================] - 68s 49ms/step - loss: 1.2533 - accuracy: 0.5555 - val_loss: 1.4674 - val_accuracy: 0.4842\n",
            "Epoch 15/100\n",
            "1407/1407 [==============================] - 49s 35ms/step - loss: 1.2316 - accuracy: 0.5633 - val_loss: 1.6214 - val_accuracy: 0.4560\n",
            "Epoch 16/100\n",
            "1407/1407 [==============================] - 49s 35ms/step - loss: 1.2135 - accuracy: 0.5704 - val_loss: 1.5224 - val_accuracy: 0.4748\n",
            "Epoch 17/100\n",
            "1407/1407 [==============================] - 48s 34ms/step - loss: 1.1919 - accuracy: 0.5789 - val_loss: 1.4811 - val_accuracy: 0.4776\n",
            "Epoch 18/100\n",
            "1407/1407 [==============================] - 49s 35ms/step - loss: 1.1708 - accuracy: 0.5856 - val_loss: 1.5899 - val_accuracy: 0.4480\n",
            "Epoch 19/100\n",
            "1407/1407 [==============================] - 49s 35ms/step - loss: 1.1602 - accuracy: 0.5932 - val_loss: 1.6210 - val_accuracy: 0.4552\n",
            "Epoch 20/100\n",
            "1407/1407 [==============================] - 47s 34ms/step - loss: 1.1358 - accuracy: 0.5994 - val_loss: 1.5326 - val_accuracy: 0.4750\n",
            "Epoch 21/100\n",
            "1407/1407 [==============================] - 41s 29ms/step - loss: 1.1186 - accuracy: 0.6045 - val_loss: 1.4992 - val_accuracy: 0.4864\n",
            "Epoch 22/100\n",
            "1407/1407 [==============================] - 45s 32ms/step - loss: 1.1049 - accuracy: 0.6080 - val_loss: 1.5002 - val_accuracy: 0.4794\n",
            "Epoch 23/100\n",
            "1407/1407 [==============================] - 44s 31ms/step - loss: 1.0911 - accuracy: 0.6155 - val_loss: 1.5103 - val_accuracy: 0.4778\n",
            "Epoch 24/100\n",
            "1407/1407 [==============================] - 44s 31ms/step - loss: 1.0784 - accuracy: 0.6182 - val_loss: 1.5375 - val_accuracy: 0.4770\n",
            "Epoch 25/100\n",
            "1407/1407 [==============================] - 44s 31ms/step - loss: 1.0592 - accuracy: 0.6267 - val_loss: 1.5751 - val_accuracy: 0.4644\n",
            "Epoch 26/100\n",
            "1407/1407 [==============================] - 44s 31ms/step - loss: 1.0506 - accuracy: 0.6290 - val_loss: 1.5140 - val_accuracy: 0.4792\n",
            "Epoch 27/100\n",
            "1407/1407 [==============================] - 45s 32ms/step - loss: 1.0294 - accuracy: 0.6362 - val_loss: 1.5457 - val_accuracy: 0.4864\n",
            "Epoch 28/100\n",
            "1407/1407 [==============================] - 45s 32ms/step - loss: 1.0239 - accuracy: 0.6363 - val_loss: 1.7156 - val_accuracy: 0.4638\n",
            "Epoch 29/100\n",
            "1407/1407 [==============================] - 44s 32ms/step - loss: 1.0152 - accuracy: 0.6408 - val_loss: 1.6811 - val_accuracy: 0.4548\n",
            "Epoch 30/100\n",
            "1407/1407 [==============================] - 44s 31ms/step - loss: 1.0021 - accuracy: 0.6431 - val_loss: 1.5996 - val_accuracy: 0.4788\n",
            "Epoch 31/100\n",
            "1407/1407 [==============================] - 44s 31ms/step - loss: 0.9910 - accuracy: 0.6488 - val_loss: 1.5630 - val_accuracy: 0.4858\n",
            "Epoch 32/100\n",
            "1407/1407 [==============================] - 44s 31ms/step - loss: 0.9790 - accuracy: 0.6548 - val_loss: 1.7414 - val_accuracy: 0.4452\n",
            "Epoch 33/100\n",
            "1407/1407 [==============================] - 44s 32ms/step - loss: 0.9666 - accuracy: 0.6599 - val_loss: 1.5815 - val_accuracy: 0.4930\n",
            "Epoch 34/100\n",
            "1407/1407 [==============================] - 44s 31ms/step - loss: 0.9590 - accuracy: 0.6596 - val_loss: 1.6336 - val_accuracy: 0.4662\n",
            "157/157 [==============================] - 1s 8ms/step - loss: 1.4674 - accuracy: 0.4842\n"
          ]
        },
        {
          "data": {
            "text/plain": [
              "[1.4674395322799683, 0.48420000076293945]"
            ]
          },
          "execution_count": 10,
          "metadata": {},
          "output_type": "execute_result"
        }
      ],
      "source": [
        "tf.random.set_seed(42)\n",
        "\n",
        "model = tf.keras.Sequential()\n",
        "model.add(tf.keras.layers.Flatten(input_shape=[32, 32, 3]))\n",
        "for _ in range(20):\n",
        "    model.add(tf.keras.layers.Dense(100, kernel_initializer=\"he_normal\"))\n",
        "    model.add(tf.keras.layers.BatchNormalization())  # Adding batch normalization\n",
        "    model.add(tf.keras.layers.Activation(\"swish\"))\n",
        "\n",
        "model.add(tf.keras.layers.Dense(10, activation=\"softmax\"))\n",
        "\n",
        "optimizer = tf.keras.optimizers.Nadam(learning_rate=5e-4)\n",
        "model.compile(loss=\"sparse_categorical_crossentropy\",\n",
        "              optimizer=optimizer,\n",
        "              metrics=[\"accuracy\"])\n",
        "\n",
        "early_stopping_cb = tf.keras.callbacks.EarlyStopping(patience=20,\n",
        "                                                     restore_best_weights=True)\n",
        "model_checkpoint_cb = tf.keras.callbacks.ModelCheckpoint(\"cifar10_bn_model\",\n",
        "                                                         save_best_only=True)\n",
        "run_index = 1 # increment every time you train the model\n",
        "run_logdir = f\"cifar10_logs/run_bn_{run_index:03d}\"\n",
        "tensorboard_cb = tf.keras.callbacks.TensorBoard(run_logdir)\n",
        "callbacks = [early_stopping_cb, model_checkpoint_cb, tensorboard_cb]\n",
        "\n",
        "model.fit(X_train, y_train, epochs=100,\n",
        "          validation_data=(X_valid, y_valid),\n",
        "          callbacks=callbacks)\n",
        "\n",
        "model.evaluate(X_valid, y_valid)"
      ]
    },
    {
      "cell_type": "markdown",
      "metadata": {
        "id": "SQUd7LiMZGPG"
      },
      "source": []
    },
    {
      "cell_type": "markdown",
      "metadata": {
        "id": "tgQH3PixZGPH"
      },
      "source": []
    }
  ],
  "metadata": {
    "kernelspec": {
      "display_name": "tensorflow_cpu",
      "language": "python",
      "name": "python3"
    },
    "language_info": {
      "codemirror_mode": {
        "name": "ipython",
        "version": 3
      },
      "file_extension": ".py",
      "mimetype": "text/x-python",
      "name": "python",
      "nbconvert_exporter": "python",
      "pygments_lexer": "ipython3",
      "version": "3.11.3"
    },
    "orig_nbformat": 4,
    "colab": {
      "provenance": []
    }
  },
  "nbformat": 4,
  "nbformat_minor": 0
}